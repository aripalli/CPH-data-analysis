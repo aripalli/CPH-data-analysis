{
 "cells": [
  {
   "cell_type": "markdown",
   "metadata": {},
   "source": [
    "**Load Libaries**"
   ]
  },
  {
   "cell_type": "code",
   "execution_count": 2,
   "metadata": {
    "collapsed": false
   },
   "outputs": [],
   "source": [
    "import pandas as pd\n",
    "import numpy as np\n",
    "import matplotlib.pyplot as plt\n",
    "from collections import Counter\n",
    "from __future__ import division\n",
    "from sklearn import linear_model"
   ]
  },
  {
   "cell_type": "markdown",
   "metadata": {},
   "source": [
    "**Motivation**\n",
    "\n",
    "*The population of foreign nations in Copenhagen and in specific district through the year*\n",
    "\n",
    "**What is your dataset?**\n",
    "\n",
    "*The raw dataset is from the [Open Copenhagen data](http://data.kk.dk/) and the data contains information about number of people in age group from different nation living in a specific district for each year from 1994 to 2015 in Copenhagen*\n",
    "<ol>\n",
    "   <p>**Variables in the dataset:** </p>\n",
    "  <li>Aar(e. Year)</li>\n",
    "  <li>Alder (e. Age)</li>\n",
    "  <li>Bydel (e. District) </li>\n",
    "  <li>Personer (e. Population) </li>\n",
    "  <li>Statkode (e. Code for nation) </li>\n",
    "</ol>\n",
    "\n",
    "You can get the data set **[here](http://data.kk.dk/dataset/befolkningen-efter-ar-bydel-alder-og-statsborgerskab)**\n",
    "\n",
    "\n",
    "\n",
    "\n",
    "**Why did you choose this/these particular dataset(s)?**\n",
    "\n",
    "*We wanted to see which nations are living in Copenhagen through the years to see if there ..*\n",
    "\n",
    "\n",
    "**What was your goal for the end user's experience?**\n",
    "\n",
    "In the end the user can look up any country of his preference and see if that particular nation has any trend through the years. Also, find some interesting example of nations moving to Copenhagen or nations moving from Copenhagen.\n",
    "\n",
    "\n",
    "\n"
   ]
  },
  {
   "cell_type": "markdown",
   "metadata": {},
   "source": [
    "*Read in the raw data from open copenhagen data (http://data.kk.dk/dataset/befolkningen-efter-ar-bydel-alder-kon-og-civilstand) and taking out all of the Danes data as we are looking at foreign nation in CPH. Also, adding colum*"
   ]
  },
  {
   "cell_type": "code",
   "execution_count": 1,
   "metadata": {
    "collapsed": false
   },
   "outputs": [
    {
     "ename": "NameError",
     "evalue": "name 'pd' is not defined",
     "output_type": "error",
     "traceback": [
      "\u001b[0;31m---------------------------------------------------------------------------\u001b[0m",
      "\u001b[0;31mNameError\u001b[0m                                 Traceback (most recent call last)",
      "\u001b[0;32m<ipython-input-1-b3d85062455d>\u001b[0m in \u001b[0;36m<module>\u001b[0;34m()\u001b[0m\n\u001b[0;32m----> 1\u001b[0;31m \u001b[0mBefolkingKBH_Data\u001b[0m \u001b[1;33m=\u001b[0m \u001b[0mpd\u001b[0m\u001b[1;33m.\u001b[0m\u001b[0mread_csv\u001b[0m\u001b[1;33m(\u001b[0m\u001b[1;34m'../Data/befkbhalderstatkode.csv'\u001b[0m\u001b[1;33m)\u001b[0m\u001b[1;33m\u001b[0m\u001b[0m\n\u001b[0m\u001b[1;32m      2\u001b[0m \u001b[0mBefolkingKBH_Data_noDanes\u001b[0m \u001b[1;33m=\u001b[0m \u001b[0mBefolkingKBH_Data\u001b[0m\u001b[1;33m[\u001b[0m\u001b[1;33m(\u001b[0m\u001b[0mBefolkingKBH_Data\u001b[0m\u001b[1;33m[\u001b[0m\u001b[1;34m'STATKODE'\u001b[0m\u001b[1;33m]\u001b[0m \u001b[1;33m!=\u001b[0m \u001b[1;36m5100\u001b[0m\u001b[1;33m)\u001b[0m\u001b[1;33m]\u001b[0m\u001b[1;33m.\u001b[0m\u001b[0mcopy\u001b[0m\u001b[1;33m(\u001b[0m\u001b[1;33m)\u001b[0m\u001b[1;33m\u001b[0m\u001b[0m\n",
      "\u001b[0;31mNameError\u001b[0m: name 'pd' is not defined"
     ]
    }
   ],
   "source": [
    "BefolkingKBH_Data = pd.read_csv('../Data/befkbhalderstatkode.csv')\n",
    "BefolkingKBH_Data_noDanes = BefolkingKBH_Data[(BefolkingKBH_Data['STATKODE'] != 5100)].copy()"
   ]
  },
  {
   "cell_type": "markdown",
   "metadata": {},
   "source": [
    "**Basic stats. Let's understand the dataset better**\n",
    "\n",
    "\n",
    "**Write about your choices in data cleaning and preprocessing**\n",
    "\n",
    "*We want to get the date set from the .csv file to a DataFrame and create three different DataFrame from the original DataFrame*\n",
    "\n",
    "*The DataFrame (Kbh_Stats_noDanes) contains the all foreign nations from the .csv file.\n",
    "The DataFrame contains the population of people from specific nation living in a specific district and the ratio between the number of specific nation and the total number of every foreign nation living in the specific district. Also, we skip dividing Copenhagen into districts and find the same informations before but now for the all Copenhagen.*\n",
    "\n",
    "Example: (Not true values!)\n",
    "\n",
    "*Number of Icelandic people living in Østerbro the year 2015 was 100, however the total number of foreigners living in Østerbro was 1000. So, Icelandic people counted as 100/1000 = 0.1% of the foreigners living in Østerbro.*\n",
    "\n",
    "\n",
    "<ol>\n",
    "   <p>**Variables in the DataFrame (Kbh_Stats_noDanes) with the districts and without the danes:** </p>\n",
    "  <li>Aar(e. Year)</li>\n",
    "  <li>Statkode (e. Code for nation) </li>\n",
    "  <li>BYDEL (e. District) </li> \n",
    "  <li>Total</li>\n",
    "  <li>Percentage </li>\n",
    "</ol>\n",
    "\n",
    "\n",
    "*The Kbh_Stats DataFrame containes informations of number of Danes living in a specific district in that specific year. We also sum up all foreign nations living in a specific district in that specific year. We also, find the number of Danes and foreigners living in all of Copenahgen for a specific year*\n",
    "\n",
    "Example: (Not true values!)\n",
    "\n",
    "*Number of foreigners living in Copenhagen the year 2015 was 100 however the total number of Danes living in Copenhagen was 1000. So, foreigners in Copenhagen counted as 100/1000 = 0.1% of the people living in Copenhagen.*\n",
    "\n",
    "<ol>\n",
    "   <p>**Variables in the DataFrame without danes and district:** </p>\n",
    "  <li>Aar(e. Year)</li>\n",
    "  <li>Statkode (e. Code for nation) </li>\n",
    "  <li>Total</li>\n",
    "  <li>Percentage </li>\n",
    "</ol>\n",
    "\n",
    "\n",
    "**Write a short section that discusses the dataset stats (here you can recycle the work you did for Project Assignment A)**\n",
    "\n",
    "*The dataset stats contains now both the total number of foreign nation living either in Copenhagen or in more specific district in Copenahgen and also, the percentage. This will give us a good indications on how the trend for specific countries living in copenhagen.*\n"
   ]
  },
  {
   "cell_type": "code",
   "execution_count": 3,
   "metadata": {
    "collapsed": true
   },
   "outputs": [],
   "source": [
    "# Here we create a unique list of Country, District, Age and year\n",
    "StatkodeList = BefolkingKBH_Data_noDanes.STATKODE.unique()\n",
    "BydelList = BefolkingKBH_Data_noDanes.BYDEL.unique()\n",
    "AlderList = BefolkingKBH_Data_noDanes.ALDER.unique()\n",
    "AarList = BefolkingKBH_Data_noDanes.AAR.unique()"
   ]
  },
  {
   "cell_type": "markdown",
   "metadata": {},
   "source": [
    "*Looping through the data and calculating the number of Danes each year in a specific district and also sum all upp all other nations. Also, finding the ration between Danes and foreign nation.*"
   ]
  },
  {
   "cell_type": "code",
   "execution_count": 8,
   "metadata": {
    "collapsed": false
   },
   "outputs": [],
   "source": [
    "# Here we process a dataset with the danes!\n",
    "Data_Array = np.array([]).reshape(0,5) # Create a numpy array\n",
    "for val,Year in enumerate(AarList):\n",
    "    # First sum up all of danes in all Copenhagen in a specific year.\n",
    "    Total_Dane = sum((BefolkingKBH_Data[((BefolkingKBH_Data['AAR'] == Year)   \n",
    "                               & (BefolkingKBH_Data['STATKODE'] == 5100) )])['PERSONER'])\n",
    "    # Then sum up all of foreigners in all Copenhagen in a specific year.\n",
    "    Total_Other = sum((BefolkingKBH_Data[((BefolkingKBH_Data['AAR'] == Year) \n",
    "                                        & ( (BefolkingKBH_Data['STATKODE'] != 5100)))])['PERSONER'])\n",
    "    # Find the ratio between Danes and foreigners in all Copenhagen in that specific year\n",
    "    data = Total_Dane/(Total_Other+Total_Dane)\n",
    "    # Append the Danes data\n",
    "    Data_Array = np.append(Data_Array,[[Year,5100.0,0,Total_Dane,data]],axis = 0)\n",
    "    # Append the foreigners data\n",
    "    Data_Array = np.append(Data_Array,[[Year,0.0,0,Total_Other,1-data]],axis = 0)\n",
    "    for val3,District in enumerate(BydelList):\n",
    "        # Sum upp all of danes in specific district and specific year\n",
    "        Total_Dane = sum((BefolkingKBH_Data[((BefolkingKBH_Data['AAR'] == Year)  \n",
    "                                        & (BefolkingKBH_Data['BYDEL'] == District)  \n",
    "                                       & (BefolkingKBH_Data['STATKODE'] == 5100) )])['PERSONER'])\n",
    "        # Sum upp all of foreigners in specific district and specific year\n",
    "        Total_Other = sum((BefolkingKBH_Data[((BefolkingKBH_Data['AAR'] == Year) \n",
    "                                                & ( (BefolkingKBH_Data['STATKODE'] != 5100) ) \n",
    "                                                & ( (BefolkingKBH_Data['BYDEL'] == District) ) )])['PERSONER'])\n",
    "        # Find the ration between the Danes and foreigners in specific district and specific year\n",
    "        data = Total_Dane/(Total_Other+Total_Dane)\n",
    "        # Append the Danes data\n",
    "        Data_Array = np.append(Data_Array,[[Year,5100,District,Total_Dane,data]],axis = 0)\n",
    "        # Append the Foreigners data\n",
    "        Data_Array = np.append(Data_Array,[[Year,0,District,Total_Other,1-data]],axis = 0)\n",
    "            \n",
    "# Create a dataframe from the numpy array and sort based on year, country number and district. \n",
    "Kbh_Stats = pd.DataFrame(Data_Array, columns = ['AAR', 'STATKODE', 'BYDEL','Total','Percentage'])\n",
    "Kbh_Stats = Kbh_Stats.sort_values(['AAR', 'STATKODE', 'BYDEL'], ascending = [1,1,1])"
   ]
  },
  {
   "cell_type": "markdown",
   "metadata": {},
   "source": [
    "*Looping through the data without Danes and calculated the percentage of each nation for each year. Takes along time to run and prints out the year to see the status of the process*"
   ]
  },
  {
   "cell_type": "code",
   "execution_count": 14,
   "metadata": {
    "collapsed": false
   },
   "outputs": [
    {
     "name": "stdout",
     "output_type": "stream",
     "text": [
      "2015\n",
      "2014\n",
      "2013\n",
      "2012\n",
      "2011\n",
      "2010\n",
      "2009\n",
      "2008\n",
      "2007\n",
      "2006\n",
      "2005\n",
      "2004\n",
      "2003\n",
      "2002\n",
      "2001\n",
      "2000\n",
      "1999\n",
      "1998\n",
      "1997\n",
      "1996\n",
      "1995\n",
      "1994\n",
      "1993\n",
      "1992\n"
     ]
    }
   ],
   "source": [
    "# Here we process a dataset without the danes!\n",
    "Data_Array_noDanes = np.array([]).reshape(0,5) # Create a empty numpy array\n",
    "for val,Year in enumerate(AarList):\n",
    "    print Year # Print out the year.. acts like a load bar to see how much of the process is left.\n",
    "    for val2,CountryNR in enumerate(StatkodeList):\n",
    "        for val3,District in enumerate(BydelList):\n",
    "            #Get the total number of foreigners living in specific district in that specific year\n",
    "            Total = sum((BefolkingKBH_Data_noDanes[((BefolkingKBH_Data_noDanes['AAR'] == Year)  \n",
    "                                                    & ( (BefolkingKBH_Data_noDanes['BYDEL'] == District) ) )])['PERSONER'])\n",
    "            #Get the total number of specific foreigners living in specific district in that specific year\n",
    "            Total_Country = sum((BefolkingKBH_Data_noDanes[((BefolkingKBH_Data_noDanes['AAR'] == Year) \n",
    "                                                            & ( (BefolkingKBH_Data_noDanes['STATKODE'] == CountryNR) ) \n",
    "                                                            & ( (BefolkingKBH_Data_noDanes['BYDEL'] == District) ) )])['PERSONER'])\n",
    "            if Total == 0:\n",
    "                data = 0.0\n",
    "            else :\n",
    "                data = Total_Country/Total # Calc the ratio\n",
    "            #Append the foreigners data\n",
    "            Data_Array_noDanes = np.append(Data_Array_noDanes,[[Year,CountryNR,District,Total_Country,data]],axis = 0)\n",
    "            \n",
    "        #Get the total number of foreigners living in Copenhagen that specific year\n",
    "        AllForeigners = sum((BefolkingKBH_Data_noDanes[((BefolkingKBH_Data_noDanes['AAR'] == Year))])['PERSONER'])\n",
    "        #Get the total number of specific foreigners living in Copenhagen that specific year\n",
    "        AllCountry = sum((BefolkingKBH_Data_noDanes[((BefolkingKBH_Data_noDanes['AAR'] == Year) \n",
    "                                                    & ( (BefolkingKBH_Data_noDanes['STATKODE'] == CountryNR) ))])['PERSONER'])\n",
    "        if AllForeigners == 0:\n",
    "            data = 0.0\n",
    "        else:\n",
    "            data = AllCountry / AllForeigners # Calc the ratio\n",
    "        #Append the foreigners data\n",
    "        Data_Array_noDanes = np.append(Data_Array_noDanes,[[Year,CountryNR,0.0,AllCountry,data]],axis = 0)\n",
    "        \n",
    "# Transforming the numpy array to DataFrame and sort based on year, country number and district.\n",
    "Kbh_Stats_noDanes = pd.DataFrame(Data_Array_noDanes, columns = ['AAR', 'STATKODE', 'BYDEL','Total','Percentage'])\n",
    "Kbh_Stats_noDanes = Kbh_Stats_noDanes.sort_values(['AAR', 'STATKODE', 'BYDEL'], ascending = [1,1,1])"
   ]
  },
  {
   "cell_type": "markdown",
   "metadata": {},
   "source": [
    "**Visualizations**\n",
    "\n",
    "\n",
    "**Explain the visualizations you've chosen.**\n",
    "\n",
    "*We want to show the trend of foreign nations living in Copenhagen and also split Copenhagen up to Districts to see if there is some interesting going on for some foreign nations. For example: Through the years many Icelandic people have move to Copenhagen search for a better life (as in better job or better education and so on). We can visualized the trend of number of Icelandic people in Copenhagen to check if this is true or if maybe in recent years somehting has change. Also, we could see whether if there is any specific district that Icelandic people like to live in.*\n",
    "\n",
    "**Why are they right for the story you want to tell?**\n",
    "\n"
   ]
  },
  {
   "cell_type": "code",
   "execution_count": 51,
   "metadata": {
    "collapsed": false
   },
   "outputs": [
    {
     "data": {
      "image/png": "[encoded data removed]",
      "text/plain": [
       "<matplotlib.figure.Figure at 0xf721fd0>"
      ]
     },
     "metadata": {},
     "output_type": "display_data"
    }
   ],
   "source": [
    "#Plot of the Icelandic people living in Indry By in CPH through the years - Small demo for the website vis\n",
    "fig, ax = plt.subplots(1, 1)\n",
    "Kbh_Stats_noDanes[((Kbh_Stats_noDanes['STATKODE'] == 5106) & (Kbh_Stats_noDanes['BYDEL'] == 1))].plot(x = 'AAR', y = 'Total', ax = ax)\n",
    "plt.show()"
   ]
  },
  {
   "cell_type": "code",
   "execution_count": 27,
   "metadata": {
    "collapsed": false
   },
   "outputs": [
    {
     "data": {
      "image/png": "[encoded data removed]",
      "text/plain": [
       "<matplotlib.figure.Figure at 0xeaefb70>"
      ]
     },
     "metadata": {},
     "output_type": "display_data"
    }
   ],
   "source": [
    "#  Plot of the Icelandic people living in CPH through the years\n",
    "Kbh_Stats_noDanes[((Kbh_Stats_noDanes['STATKODE'] == 5106) & (Kbh_Stats_noDanes['BYDEL'] == 0))].plot(x = 'AAR', y = 'Total')\n",
    "plt.show()"
   ]
  },
  {
   "cell_type": "code",
   "execution_count": 19,
   "metadata": {
    "collapsed": false
   },
   "outputs": [],
   "source": [
    "# We want to decode the country number and district number to there names\n",
    "deCoder = pd.read_csv('../Data/Statcode_decoder.csv')\n",
    "deCoderBydel = pd.read_csv('../Data/Bydel_decoder.csv')\n",
    "\n",
    "#First decode the countries\n",
    "for i in range(len(deCoder)):\n",
    "    Kbh_Stats_noDanes.loc[(Kbh_Stats_noDanes['STATKODE'] == deCoder['STATKODE'][i]),('COUNTRY')] = deCoder['COUNTRY'][i]\n",
    "    #Kbh_Stats_noDanes_nobydel.loc[(Kbh_Stats_noDanes_nobydel['STATKODE'] == deCoder['STATKODE'][i]),('COUNTRY')] = deCoder['COUNTRY'][i]\n",
    "    \n",
    "# We know for the DataFrame KBH_Stats we have only Denmark and All other nation!\n",
    "Kbh_Stats.loc[(Kbh_Stats['STATKODE'] == 5100),('COUNTRY')] = 'Danmark'\n",
    "Kbh_Stats.loc[(Kbh_Stats['STATKODE'] == 0),('COUNTRY')] = 'Foreign Nations'\n",
    "    \n",
    "# second decode for the districts\n",
    "for i in range(len(deCoderBydel)):\n",
    "    Kbh_Stats_noDanes.loc[(Kbh_Stats_noDanes['BYDEL'] == deCoderBydel['BYDELNR'][i]),('DISTRICT')] = deCoderBydel['BYDEL'][i]\n",
    "    Kbh_Stats.loc[(Kbh_Stats['BYDEL'] == deCoderBydel['BYDELNR'][i]),('DISTRICT')] = deCoderBydel['BYDEL'][i]"
   ]
  },
  {
   "cell_type": "code",
   "execution_count": 24,
   "metadata": {
    "collapsed": false
   },
   "outputs": [],
   "source": [
    "# Createe a Dataframe with the top 25 most populated foreign nations in Copenhagen\n",
    "Top25 = pd.DataFrame(columns = ['AAR','STATKODE','Total','Percentage','COUNTRY'])\n",
    "for val,i in enumerate(AarList):\n",
    "    TopDataYear = Kbh_Stats_noDanes[(Kbh_Stats_noDanes['AAR'] == i) & (Kbh_Stats_noDanes['DISTRICT'] == 'All Districts')].nlargest(25,'Total')\n",
    "    Top25 = Top25.append(TopDataYear)"
   ]
  },
  {
   "cell_type": "code",
   "execution_count": 25,
   "metadata": {
    "collapsed": false
   },
   "outputs": [],
   "source": [
    "# Creata a csv file of the Dataframe.\n",
    "Kbh_Stats_noDanes.to_csv('KBH_Stats_noDanes.csv', sep=',', encoding='utf-8',index = False)\n",
    "Kbh_Stats.to_csv('KBH_Stats.csv', sep=',', encoding='utf-8',index = False)\n",
    "Top25[['AAR','Total','COUNTRY']].to_csv('KBH_Top25_AllYears.csv', sep=',', encoding='utf-8',index = False)"
   ]
  },
  {
   "cell_type": "code",
   "execution_count": 17,
   "metadata": {
    "collapsed": false
   },
   "outputs": [
    {
     "data": {
      "text/html": [
       "<div>\n",
       "<table border=\"1\" class=\"dataframe\">\n",
       "  <thead>\n",
       "    <tr style=\"text-align: right;\">\n",
       "      <th></th>\n",
       "      <th>Year</th>\n",
       "      <th>Country</th>\n",
       "      <th>Total_in</th>\n",
       "      <th>Total_Out</th>\n",
       "    </tr>\n",
       "  </thead>\n",
       "  <tbody>\n",
       "    <tr>\n",
       "      <th>0</th>\n",
       "      <td>1986</td>\n",
       "      <td>�sland</td>\n",
       "      <td>2041</td>\n",
       "      <td>2479</td>\n",
       "    </tr>\n",
       "    <tr>\n",
       "      <th>1</th>\n",
       "      <td>1987</td>\n",
       "      <td>�sland</td>\n",
       "      <td>2598</td>\n",
       "      <td>1916</td>\n",
       "    </tr>\n",
       "    <tr>\n",
       "      <th>2</th>\n",
       "      <td>1988</td>\n",
       "      <td>�sland</td>\n",
       "      <td>2395</td>\n",
       "      <td>1856</td>\n",
       "    </tr>\n",
       "    <tr>\n",
       "      <th>3</th>\n",
       "      <td>1989</td>\n",
       "      <td>�sland</td>\n",
       "      <td>1735</td>\n",
       "      <td>2883</td>\n",
       "    </tr>\n",
       "    <tr>\n",
       "      <th>4</th>\n",
       "      <td>1990</td>\n",
       "      <td>�sland</td>\n",
       "      <td>2055</td>\n",
       "      <td>2806</td>\n",
       "    </tr>\n",
       "    <tr>\n",
       "      <th>5</th>\n",
       "      <td>1991</td>\n",
       "      <td>�sland</td>\n",
       "      <td>2281</td>\n",
       "      <td>1995</td>\n",
       "    </tr>\n",
       "    <tr>\n",
       "      <th>6</th>\n",
       "      <td>1992</td>\n",
       "      <td>�sland</td>\n",
       "      <td>1980</td>\n",
       "      <td>1775</td>\n",
       "    </tr>\n",
       "    <tr>\n",
       "      <th>7</th>\n",
       "      <td>1993</td>\n",
       "      <td>�sland</td>\n",
       "      <td>1749</td>\n",
       "      <td>2016</td>\n",
       "    </tr>\n",
       "    <tr>\n",
       "      <th>8</th>\n",
       "      <td>1994</td>\n",
       "      <td>�sland</td>\n",
       "      <td>1796</td>\n",
       "      <td>2657</td>\n",
       "    </tr>\n",
       "    <tr>\n",
       "      <th>9</th>\n",
       "      <td>1995</td>\n",
       "      <td>�sland</td>\n",
       "      <td>1929</td>\n",
       "      <td>3566</td>\n",
       "    </tr>\n",
       "    <tr>\n",
       "      <th>10</th>\n",
       "      <td>1996</td>\n",
       "      <td>�sland</td>\n",
       "      <td>2406</td>\n",
       "      <td>3444</td>\n",
       "    </tr>\n",
       "    <tr>\n",
       "      <th>11</th>\n",
       "      <td>1997</td>\n",
       "      <td>�sland</td>\n",
       "      <td>2584</td>\n",
       "      <td>3158</td>\n",
       "    </tr>\n",
       "    <tr>\n",
       "      <th>12</th>\n",
       "      <td>1998</td>\n",
       "      <td>�sland</td>\n",
       "      <td>2788</td>\n",
       "      <td>3021</td>\n",
       "    </tr>\n",
       "    <tr>\n",
       "      <th>13</th>\n",
       "      <td>1999</td>\n",
       "      <td>�sland</td>\n",
       "      <td>2867</td>\n",
       "      <td>2709</td>\n",
       "    </tr>\n",
       "    <tr>\n",
       "      <th>14</th>\n",
       "      <td>2000</td>\n",
       "      <td>�sland</td>\n",
       "      <td>2741</td>\n",
       "      <td>2679</td>\n",
       "    </tr>\n",
       "    <tr>\n",
       "      <th>15</th>\n",
       "      <td>2001</td>\n",
       "      <td>�sland</td>\n",
       "      <td>2487</td>\n",
       "      <td>2959</td>\n",
       "    </tr>\n",
       "    <tr>\n",
       "      <th>16</th>\n",
       "      <td>2002</td>\n",
       "      <td>�sland</td>\n",
       "      <td>2360</td>\n",
       "      <td>3380</td>\n",
       "    </tr>\n",
       "    <tr>\n",
       "      <th>17</th>\n",
       "      <td>2003</td>\n",
       "      <td>�sland</td>\n",
       "      <td>2351</td>\n",
       "      <td>2964</td>\n",
       "    </tr>\n",
       "    <tr>\n",
       "      <th>18</th>\n",
       "      <td>2004</td>\n",
       "      <td>�sland</td>\n",
       "      <td>2838</td>\n",
       "      <td>3276</td>\n",
       "    </tr>\n",
       "    <tr>\n",
       "      <th>19</th>\n",
       "      <td>2005</td>\n",
       "      <td>�sland</td>\n",
       "      <td>3093</td>\n",
       "      <td>2975</td>\n",
       "    </tr>\n",
       "    <tr>\n",
       "      <th>20</th>\n",
       "      <td>2006</td>\n",
       "      <td>�sland</td>\n",
       "      <td>2762</td>\n",
       "      <td>3042</td>\n",
       "    </tr>\n",
       "    <tr>\n",
       "      <th>21</th>\n",
       "      <td>2007</td>\n",
       "      <td>�sland</td>\n",
       "      <td>3228</td>\n",
       "      <td>3395</td>\n",
       "    </tr>\n",
       "    <tr>\n",
       "      <th>22</th>\n",
       "      <td>2008</td>\n",
       "      <td>�sland</td>\n",
       "      <td>2817</td>\n",
       "      <td>3294</td>\n",
       "    </tr>\n",
       "    <tr>\n",
       "      <th>23</th>\n",
       "      <td>2009</td>\n",
       "      <td>�sland</td>\n",
       "      <td>2385</td>\n",
       "      <td>4851</td>\n",
       "    </tr>\n",
       "    <tr>\n",
       "      <th>24</th>\n",
       "      <td>2010</td>\n",
       "      <td>�sland</td>\n",
       "      <td>2637</td>\n",
       "      <td>4340</td>\n",
       "    </tr>\n",
       "    <tr>\n",
       "      <th>25</th>\n",
       "      <td>2011</td>\n",
       "      <td>�sland</td>\n",
       "      <td>2824</td>\n",
       "      <td>4135</td>\n",
       "    </tr>\n",
       "    <tr>\n",
       "      <th>26</th>\n",
       "      <td>2012</td>\n",
       "      <td>�sland</td>\n",
       "      <td>3130</td>\n",
       "      <td>4066</td>\n",
       "    </tr>\n",
       "    <tr>\n",
       "      <th>27</th>\n",
       "      <td>2013</td>\n",
       "      <td>�sland</td>\n",
       "      <td>3139</td>\n",
       "      <td>3175</td>\n",
       "    </tr>\n",
       "    <tr>\n",
       "      <th>28</th>\n",
       "      <td>2014</td>\n",
       "      <td>�sland</td>\n",
       "      <td>2640</td>\n",
       "      <td>3400</td>\n",
       "    </tr>\n",
       "    <tr>\n",
       "      <th>29</th>\n",
       "      <td>2015</td>\n",
       "      <td>�sland</td>\n",
       "      <td>2498</td>\n",
       "      <td>3763</td>\n",
       "    </tr>\n",
       "    <tr>\n",
       "      <th>30</th>\n",
       "      <td>2016</td>\n",
       "      <td>�sland</td>\n",
       "      <td>3099</td>\n",
       "      <td>3245</td>\n",
       "    </tr>\n",
       "  </tbody>\n",
       "</table>\n",
       "</div>"
      ],
      "text/plain": [
       "    Year Country  Total_in  Total_Out\n",
       "0   1986  �sland      2041       2479\n",
       "1   1987  �sland      2598       1916\n",
       "2   1988  �sland      2395       1856\n",
       "3   1989  �sland      1735       2883\n",
       "4   1990  �sland      2055       2806\n",
       "5   1991  �sland      2281       1995\n",
       "6   1992  �sland      1980       1775\n",
       "7   1993  �sland      1749       2016\n",
       "8   1994  �sland      1796       2657\n",
       "9   1995  �sland      1929       3566\n",
       "10  1996  �sland      2406       3444\n",
       "11  1997  �sland      2584       3158\n",
       "12  1998  �sland      2788       3021\n",
       "13  1999  �sland      2867       2709\n",
       "14  2000  �sland      2741       2679\n",
       "15  2001  �sland      2487       2959\n",
       "16  2002  �sland      2360       3380\n",
       "17  2003  �sland      2351       2964\n",
       "18  2004  �sland      2838       3276\n",
       "19  2005  �sland      3093       2975\n",
       "20  2006  �sland      2762       3042\n",
       "21  2007  �sland      3228       3395\n",
       "22  2008  �sland      2817       3294\n",
       "23  2009  �sland      2385       4851\n",
       "24  2010  �sland      2637       4340\n",
       "25  2011  �sland      2824       4135\n",
       "26  2012  �sland      3130       4066\n",
       "27  2013  �sland      3139       3175\n",
       "28  2014  �sland      2640       3400\n",
       "29  2015  �sland      2498       3763\n",
       "30  2016  �sland      3099       3245"
      ]
     },
     "execution_count": 17,
     "metadata": {},
     "output_type": "execute_result"
    }
   ],
   "source": [
    "Island_Data = pd.read_csv('MAN01404.csv', delimiter = ';')\n",
    "Island_Data.columns = ['Year','Country', 'Total_in', 'Total_Out']\n",
    "Island_Data\n",
    "#df['MyColumnName'] = df['MyColumnName'].astype('float64') "
   ]
  },
  {
   "cell_type": "code",
   "execution_count": 19,
   "metadata": {
    "collapsed": false
   },
   "outputs": [
    {
     "data": {
      "image/png": "[encoded data removed]",
      "text/plain": [
       "<matplotlib.figure.Figure at 0xcf63748>"
      ]
     },
     "metadata": {},
     "output_type": "display_data"
    }
   ],
   "source": [
    "fig, ax = plt.subplots(1, 1)\n",
    "Island_Data.plot(x = 'Year', y = 'Total_in', ax=ax)\n",
    "Island_Data.plot(x= 'Year', y = 'Total_Out', ax = ax)\n",
    "plt.show()"
   ]
  }
 ],
 "metadata": {
  "anaconda-cloud": {},
  "kernelspec": {
   "display_name": "Python [conda root]",
   "language": "python",
   "name": "conda-root-py"
  },
  "language_info": {
   "codemirror_mode": {
    "name": "ipython",
    "version": 2
   },
   "file_extension": ".py",
   "mimetype": "text/x-python",
   "name": "python",
   "nbconvert_exporter": "python",
   "pygments_lexer": "ipython2",
   "version": "2.7.12"
  }
 },
 "nbformat": 4,
 "nbformat_minor": 1
}
