{
 "cells": [
  {
   "cell_type": "code",
   "execution_count": 2,
   "metadata": {
    "collapsed": true
   },
   "outputs": [],
   "source": [
    "import pandas as pd\n",
    "import numpy as np\n",
    "import matplotlib.pyplot as plt\n",
    "from collections import Counter\n",
    "from __future__ import division\n",
    "from sklearn import linear_model"
   ]
  },
  {
   "cell_type": "code",
   "execution_count": 36,
   "metadata": {
    "collapsed": false
   },
   "outputs": [
    {
     "data": {
      "text/plain": [
       "24"
      ]
     },
     "execution_count": 36,
     "metadata": {},
     "output_type": "execute_result"
    }
   ],
   "source": [
    "AllData = pd.read_csv('KBH_Stats_noDanes_noBydel_1.csv')\n",
    "CountryUnq = AllData['COUNTRY'].unique()\n",
    "Years = AllData['AAR'].unique()\n",
    "len(CountryUnq)\n",
    "len(Years)"
   ]
  },
  {
   "cell_type": "code",
   "execution_count": 33,
   "metadata": {
    "collapsed": false
   },
   "outputs": [],
   "source": [
    "TopData2015 = AllData[AllData['AAR'] == 2015].nlargest(25,'Total')\n",
    "LowData2015 = AllData[AllData['AAR'] == 2015].nsmallest(len(CountryUnq)-25,'Total')\n",
    "d = {'AAR':2015, 'STATKODE': 1, 'Total': LowData2015['Total'].sum(), 'Percentage': 0, 'COUNTRY': 'Other' }\n",
    "df = pd.DataFrame(data=d,index=[0])\n",
    "TopData2015.append(df)\n",
    "TopData2015[['AAR','Total','COUNTRY']].to_csv('KBH_Top25.csv', sep=',', encoding='utf-8',index = False)"
   ]
  },
  {
   "cell_type": "code",
   "execution_count": 81,
   "metadata": {
    "collapsed": false
   },
   "outputs": [],
   "source": [
    "Data_Array = np.array([]).reshape(0,2)\n",
    "for val,i in enumerate(CountryUnq):\n",
    "    AvNum = AllData[AllData['COUNTRY'] == i]['Total'].sum()/len(Years)\n",
    "    Data_Array = np.append(Data_Array,[[i,AvNum]], axis=0)\n",
    "    \n",
    "AvCountry = pd.DataFrame(Data_Array, columns = ['COUNTRY', 'AVERAGE'])\n",
    "AvCountry['AVERAGE'] =AvCountry['AVERAGE'].astype('float64')\n",
    "AvCountry = AvCountry.sort_values('AVERAGE', ascending = False)\n",
    "AvCountry.to_csv('AverageCountry.csv', sep=',', encoding='utf-8',index = False)"
   ]
  }
 ],
 "metadata": {
  "kernelspec": {
   "display_name": "Python [conda root]",
   "language": "python",
   "name": "conda-root-py"
  },
  "language_info": {
   "codemirror_mode": {
    "name": "ipython",
    "version": 2
   },
   "file_extension": ".py",
   "mimetype": "text/x-python",
   "name": "python",
   "nbconvert_exporter": "python",
   "pygments_lexer": "ipython2",
   "version": "2.7.12"
  }
 },
 "nbformat": 4,
 "nbformat_minor": 1
}
