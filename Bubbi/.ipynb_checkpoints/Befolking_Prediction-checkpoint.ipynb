{
 "cells": [
  {
   "cell_type": "code",
   "execution_count": 32,
   "metadata": {
    "collapsed": true
   },
   "outputs": [],
   "source": [
    "import pandas as pd\n",
    "import numpy as np\n",
    "import matplotlib.pyplot as plt\n",
    "from collections import Counter\n",
    "from __future__ import division\n",
    "from sklearn import linear_model"
   ]
  },
  {
   "cell_type": "code",
   "execution_count": 197,
   "metadata": {
    "collapsed": false
   },
   "outputs": [],
   "source": [
    "AllData = pd.read_csv('KBH_Stats_noDanes_noBydel_1.csv',usecols=[\"AAR\", \"Total\", \"STATKODE\", \"Percentage\",\"COUNTRY\"])"
   ]
  },
  {
   "cell_type": "code",
   "execution_count": 186,
   "metadata": {
    "collapsed": false
   },
   "outputs": [
    {
     "data": {
      "text/plain": [
       "array([ 5102.,  5103.,  5104.,  5105.,  5106.,  5107.,  5108.,  5110.,\n",
       "        5115.,  5120.,  5122.,  5126.,  5128.,  5129.,  5130.,  5134.,\n",
       "        5140.,  5142.,  5150.,  5151.,  5152.,  5153.,  5154.,  5156.,\n",
       "        5158.,  5159.,  5160.,  5162.,  5164.,  5170.,  5172.,  5174.,\n",
       "        5180.,  5182.,  5202.,  5204.,  5207.,  5213.,  5214.,  5215.,\n",
       "        5216.,  5222.,  5228.,  5231.,  5232.,  5233.,  5234.,  5235.,\n",
       "        5236.,  5238.,  5240.,  5242.,  5243.,  5244.,  5245.,  5246.,\n",
       "        5247.,  5255.,  5258.,  5259.,  5262.,  5266.,  5268.,  5269.,\n",
       "        5272.,  5275.,  5277.,  5278.,  5279.,  5281.,  5282.,  5283.,\n",
       "        5284.,  5285.,  5287.,  5288.,  5289.,  5292.,  5293.,  5294.,\n",
       "        5295.,  5296.,  5297.,  5298.,  5299.,  5302.,  5303.,  5304.,\n",
       "        5305.,  5306.,  5308.,  5311.,  5314.,  5316.,  5318.,  5322.,\n",
       "        5324.,  5326.,  5328.,  5338.,  5339.,  5342.,  5344.,  5345.,\n",
       "        5347.,  5348.,  5352.,  5354.,  5356.,  5358.,  5364.,  5366.,\n",
       "        5372.,  5374.,  5376.,  5390.,  5392.,  5402.,  5403.,  5404.,\n",
       "        5406.,  5408.,  5410.,  5412.,  5414.,  5416.,  5418.,  5422.,\n",
       "        5424.,  5432.,  5434.,  5436.,  5438.,  5442.,  5444.,  5446.,\n",
       "        5448.,  5452.,  5454.,  5456.,  5457.,  5458.,  5459.,  5462.,\n",
       "        5464.,  5466.,  5472.,  5474.,  5478.,  5482.,  5484.,  5486.,\n",
       "        5487.,  5488.,  5492.,  5496.,  5499.,  5502.,  5505.,  5508.,\n",
       "        5514.,  5522.,  5525.,  5526.,  5607.,  5609.,  5611.,  5625.,\n",
       "        5700.,  5704.,  5706.,  5708.,  5710.,  5712.,  5714.,  5716.,\n",
       "        5718.,  5720.,  5722.,  5724.,  5750.,  5752.,  5754.,  5756.,\n",
       "        5757.,  5758.,  5759.,  5761.,  5776.,  5778.,  5902.,  5999.])"
      ]
     },
     "execution_count": 186,
     "metadata": {},
     "output_type": "execute_result"
    }
   ],
   "source": [
    "unqStatKode = TrainingData['STATKODE'].unique()"
   ]
  },
  {
   "cell_type": "code",
   "execution_count": 235,
   "metadata": {
    "collapsed": false
   },
   "outputs": [],
   "source": [
    "Data_Array = np.array([]).reshape(0,5)\n",
    "TrainingData = AllData[(AllData['AAR'] <= 2011)]\n",
    "TestData = AllData[(AllData['AAR'] > 2011)]"
   ]
  },
  {
   "cell_type": "code",
   "execution_count": 236,
   "metadata": {
    "collapsed": false
   },
   "outputs": [],
   "source": [
    "regPerc = linear_model.LinearRegression()\n",
    "reg = linear_model.LinearRegression()\n",
    "predictYear = np.array([2012,2013,2014,2015])\n",
    "for val,i in enumerate(unqStatKode):\n",
    "    regPerc.fit(TrainingData[TrainingData['STATKODE'] == i][['AAR','Percentage']],\n",
    "    TrainingData[TrainingData['STATKODE'] == i][['Total']])\n",
    "    PredPerc = regPerc.predict(TestData[TestData['STATKODE'] == i][['AAR','Percentage']])\n",
    "    reg.fit(TrainingData[TrainingData['STATKODE'] == i][['AAR']],\n",
    "    TrainingData[TrainingData['STATKODE'] == i][['Total']])\n",
    "    Pred = reg.predict(TestData[TestData['STATKODE'] == i][['AAR']])\n",
    "    Country = TrainingData[TrainingData['STATKODE'] == i]['COUNTRY'].unique()\n",
    "    realData = TestData[TestData['STATKODE'] == i]['Total'].as_matrix()\n",
    "\n",
    "    for j in range(len(predictYear)):\n",
    "        Data_Array = np.append(Data_Array,\n",
    "                               [[Country[0],predictYear[j],\n",
    "                                 PredPerc[j][0],Pred[j][0],\n",
    "                                 realData[j]]],axis = 0)"
   ]
  },
  {
   "cell_type": "code",
   "execution_count": 241,
   "metadata": {
    "collapsed": false
   },
   "outputs": [],
   "source": [
    "Predictions = pd.DataFrame(Data_Array, columns = ['COUNTRY', 'AAR', 'Predictions_Perc','Predictions','Real'])\n",
    "Predictions\n",
    "Predictions.to_csv('KBH_Stats_Predictions.csv', sep=',', encoding='utf-8',index = False)"
   ]
  },
  {
   "cell_type": "code",
   "execution_count": 128,
   "metadata": {
    "collapsed": false
   },
   "outputs": [
    {
     "data": {
      "text/plain": [
       "array([   7.,  593.,  528., ...,  214.,    0.,   10.])"
      ]
     },
     "execution_count": 128,
     "metadata": {},
     "output_type": "execute_result"
    }
   ],
   "source": [
    "X_Training = np.asarray(TrainingData[['AAR','STATKODE']])\n",
    "Y_Training = np.asarray((TrainingData['Total']))\n",
    "X_Test = np.asarray(TestData[['AAR','STATKODE']])\n",
    "Y_Test  = np.asarray((TestData['Total']))\n",
    "Y_Training"
   ]
  },
  {
   "cell_type": "code",
   "execution_count": 147,
   "metadata": {
    "collapsed": false
   },
   "outputs": [
    {
     "name": "stdout",
     "output_type": "stream",
     "text": [
      "[[  7.45931603e-01   5.41608826e+04]]\n",
      "[-1488.69888518]\n"
     ]
    }
   ],
   "source": [
    "reg2 = linear_model.LinearRegression()\n",
    "reg2.fit(TrainingData[TrainingData['STATKODE'] == 5708][['AAR','Percentage']],\n",
    "         TrainingData[TrainingData['STATKODE'] == 5708][['Total']])\n",
    "print reg2.coef_\n",
    "print reg2.intercept_"
   ]
  },
  {
   "cell_type": "code",
   "execution_count": 130,
   "metadata": {
    "collapsed": false
   },
   "outputs": [],
   "source": [
    "X_Test = np.asarray(TestData[TestData['STATKODE'] == 5106][['AAR','STATKODE']])"
   ]
  },
  {
   "cell_type": "code",
   "execution_count": 148,
   "metadata": {
    "collapsed": false
   },
   "outputs": [
    {
     "data": {
      "text/plain": [
       "array([[ 61.50082174],\n",
       "       [ 56.63277516],\n",
       "       [ 52.98817493],\n",
       "       [ 50.79947855]])"
      ]
     },
     "execution_count": 148,
     "metadata": {},
     "output_type": "execute_result"
    }
   ],
   "source": [
    "reg2.predict(TestData[TestData['STATKODE'] == 5708][['AAR','Percentage']])"
   ]
  },
  {
   "cell_type": "code",
   "execution_count": 149,
   "metadata": {
    "collapsed": false
   },
   "outputs": [
    {
     "data": {
      "image/png": "[encoded data removed]",
      "text/plain": [
       "<matplotlib.figure.Figure at 0xcdc5860>"
      ]
     },
     "metadata": {},
     "output_type": "display_data"
    }
   ],
   "source": [
    "plt.plot(reg2.predict(TestData[TestData['STATKODE'] == 5708][['AAR','Percentage']]))\n",
    "plt.show()"
   ]
  },
  {
   "cell_type": "code",
   "execution_count": 150,
   "metadata": {
    "collapsed": false
   },
   "outputs": [
    {
     "data": {
      "text/html": [
       "<div>\n",
       "<table border=\"1\" class=\"dataframe\">\n",
       "  <thead>\n",
       "    <tr style=\"text-align: right;\">\n",
       "      <th></th>\n",
       "      <th>AAR</th>\n",
       "      <th>STATKODE</th>\n",
       "      <th>Total</th>\n",
       "      <th>Percentage</th>\n",
       "    </tr>\n",
       "  </thead>\n",
       "  <tbody>\n",
       "    <tr>\n",
       "      <th>171</th>\n",
       "      <td>1992.0</td>\n",
       "      <td>5708.0</td>\n",
       "      <td>0.0</td>\n",
       "      <td>0.000000</td>\n",
       "    </tr>\n",
       "    <tr>\n",
       "      <th>363</th>\n",
       "      <td>1993.0</td>\n",
       "      <td>5708.0</td>\n",
       "      <td>0.0</td>\n",
       "      <td>0.000000</td>\n",
       "    </tr>\n",
       "    <tr>\n",
       "      <th>555</th>\n",
       "      <td>1994.0</td>\n",
       "      <td>5708.0</td>\n",
       "      <td>5.0</td>\n",
       "      <td>0.000119</td>\n",
       "    </tr>\n",
       "    <tr>\n",
       "      <th>747</th>\n",
       "      <td>1995.0</td>\n",
       "      <td>5708.0</td>\n",
       "      <td>11.0</td>\n",
       "      <td>0.000246</td>\n",
       "    </tr>\n",
       "    <tr>\n",
       "      <th>939</th>\n",
       "      <td>1996.0</td>\n",
       "      <td>5708.0</td>\n",
       "      <td>14.0</td>\n",
       "      <td>0.000287</td>\n",
       "    </tr>\n",
       "    <tr>\n",
       "      <th>1131</th>\n",
       "      <td>1997.0</td>\n",
       "      <td>5708.0</td>\n",
       "      <td>66.0</td>\n",
       "      <td>0.001248</td>\n",
       "    </tr>\n",
       "    <tr>\n",
       "      <th>1323</th>\n",
       "      <td>1998.0</td>\n",
       "      <td>5708.0</td>\n",
       "      <td>80.0</td>\n",
       "      <td>0.001432</td>\n",
       "    </tr>\n",
       "    <tr>\n",
       "      <th>1515</th>\n",
       "      <td>1999.0</td>\n",
       "      <td>5708.0</td>\n",
       "      <td>95.0</td>\n",
       "      <td>0.001653</td>\n",
       "    </tr>\n",
       "    <tr>\n",
       "      <th>1707</th>\n",
       "      <td>2000.0</td>\n",
       "      <td>5708.0</td>\n",
       "      <td>93.0</td>\n",
       "      <td>0.001589</td>\n",
       "    </tr>\n",
       "    <tr>\n",
       "      <th>1899</th>\n",
       "      <td>2001.0</td>\n",
       "      <td>5708.0</td>\n",
       "      <td>97.0</td>\n",
       "      <td>0.001688</td>\n",
       "    </tr>\n",
       "    <tr>\n",
       "      <th>2091</th>\n",
       "      <td>2002.0</td>\n",
       "      <td>5708.0</td>\n",
       "      <td>98.0</td>\n",
       "      <td>0.001712</td>\n",
       "    </tr>\n",
       "    <tr>\n",
       "      <th>2283</th>\n",
       "      <td>2003.0</td>\n",
       "      <td>5708.0</td>\n",
       "      <td>75.0</td>\n",
       "      <td>0.001341</td>\n",
       "    </tr>\n",
       "    <tr>\n",
       "      <th>2475</th>\n",
       "      <td>2004.0</td>\n",
       "      <td>5708.0</td>\n",
       "      <td>73.0</td>\n",
       "      <td>0.001289</td>\n",
       "    </tr>\n",
       "    <tr>\n",
       "      <th>2667</th>\n",
       "      <td>2005.0</td>\n",
       "      <td>5708.0</td>\n",
       "      <td>58.0</td>\n",
       "      <td>0.001028</td>\n",
       "    </tr>\n",
       "    <tr>\n",
       "      <th>2859</th>\n",
       "      <td>2006.0</td>\n",
       "      <td>5708.0</td>\n",
       "      <td>53.0</td>\n",
       "      <td>0.000938</td>\n",
       "    </tr>\n",
       "    <tr>\n",
       "      <th>3051</th>\n",
       "      <td>2007.0</td>\n",
       "      <td>5708.0</td>\n",
       "      <td>56.0</td>\n",
       "      <td>0.000959</td>\n",
       "    </tr>\n",
       "    <tr>\n",
       "      <th>3243</th>\n",
       "      <td>2008.0</td>\n",
       "      <td>5708.0</td>\n",
       "      <td>65.0</td>\n",
       "      <td>0.001037</td>\n",
       "    </tr>\n",
       "    <tr>\n",
       "      <th>3435</th>\n",
       "      <td>2009.0</td>\n",
       "      <td>5708.0</td>\n",
       "      <td>62.0</td>\n",
       "      <td>0.000918</td>\n",
       "    </tr>\n",
       "    <tr>\n",
       "      <th>3627</th>\n",
       "      <td>2010.0</td>\n",
       "      <td>5708.0</td>\n",
       "      <td>63.0</td>\n",
       "      <td>0.000891</td>\n",
       "    </tr>\n",
       "    <tr>\n",
       "      <th>3819</th>\n",
       "      <td>2011.0</td>\n",
       "      <td>5708.0</td>\n",
       "      <td>60.0</td>\n",
       "      <td>0.000796</td>\n",
       "    </tr>\n",
       "    <tr>\n",
       "      <th>4011</th>\n",
       "      <td>2012.0</td>\n",
       "      <td>5708.0</td>\n",
       "      <td>70.0</td>\n",
       "      <td>0.000912</td>\n",
       "    </tr>\n",
       "    <tr>\n",
       "      <th>4203</th>\n",
       "      <td>2013.0</td>\n",
       "      <td>5708.0</td>\n",
       "      <td>64.0</td>\n",
       "      <td>0.000808</td>\n",
       "    </tr>\n",
       "    <tr>\n",
       "      <th>4395</th>\n",
       "      <td>2014.0</td>\n",
       "      <td>5708.0</td>\n",
       "      <td>61.0</td>\n",
       "      <td>0.000727</td>\n",
       "    </tr>\n",
       "    <tr>\n",
       "      <th>4587</th>\n",
       "      <td>2015.0</td>\n",
       "      <td>5708.0</td>\n",
       "      <td>59.0</td>\n",
       "      <td>0.000673</td>\n",
       "    </tr>\n",
       "  </tbody>\n",
       "</table>\n",
       "</div>"
      ],
      "text/plain": [
       "         AAR  STATKODE  Total  Percentage\n",
       "171   1992.0    5708.0    0.0    0.000000\n",
       "363   1993.0    5708.0    0.0    0.000000\n",
       "555   1994.0    5708.0    5.0    0.000119\n",
       "747   1995.0    5708.0   11.0    0.000246\n",
       "939   1996.0    5708.0   14.0    0.000287\n",
       "1131  1997.0    5708.0   66.0    0.001248\n",
       "1323  1998.0    5708.0   80.0    0.001432\n",
       "1515  1999.0    5708.0   95.0    0.001653\n",
       "1707  2000.0    5708.0   93.0    0.001589\n",
       "1899  2001.0    5708.0   97.0    0.001688\n",
       "2091  2002.0    5708.0   98.0    0.001712\n",
       "2283  2003.0    5708.0   75.0    0.001341\n",
       "2475  2004.0    5708.0   73.0    0.001289\n",
       "2667  2005.0    5708.0   58.0    0.001028\n",
       "2859  2006.0    5708.0   53.0    0.000938\n",
       "3051  2007.0    5708.0   56.0    0.000959\n",
       "3243  2008.0    5708.0   65.0    0.001037\n",
       "3435  2009.0    5708.0   62.0    0.000918\n",
       "3627  2010.0    5708.0   63.0    0.000891\n",
       "3819  2011.0    5708.0   60.0    0.000796\n",
       "4011  2012.0    5708.0   70.0    0.000912\n",
       "4203  2013.0    5708.0   64.0    0.000808\n",
       "4395  2014.0    5708.0   61.0    0.000727\n",
       "4587  2015.0    5708.0   59.0    0.000673"
      ]
     },
     "execution_count": 150,
     "metadata": {},
     "output_type": "execute_result"
    }
   ],
   "source": [
    "AllData[AllData['STATKODE'] == 5708]"
   ]
  },
  {
   "cell_type": "code",
   "execution_count": 138,
   "metadata": {
    "collapsed": false
   },
   "outputs": [
    {
     "name": "stdout",
     "output_type": "stream",
     "text": [
      "[[ 11.0075188]]\n",
      "[-21428.74887218]\n"
     ]
    }
   ],
   "source": [
    "reg2 = linear_model.LinearRegression()\n",
    "reg2.fit(TrainingData[TrainingData['STATKODE'] == 5104][['AAR']],\n",
    "         TrainingData[TrainingData['STATKODE'] == 5104][['Total']])\n",
    "print reg2.coef_\n",
    "print reg2.intercept_"
   ]
  },
  {
   "cell_type": "code",
   "execution_count": null,
   "metadata": {
    "collapsed": false
   },
   "outputs": [],
   "source": [
    "reg2.predict(TestData[TestData['STATKODE'] == 5104][['AAR']])"
   ]
  },
  {
   "cell_type": "code",
   "execution_count": 139,
   "metadata": {
    "collapsed": false
   },
   "outputs": [
    {
     "data": {
      "image/png": "[encoded data removed]",
      "text/plain": [
       "<matplotlib.figure.Figure at 0xe25eb00>"
      ]
     },
     "metadata": {},
     "output_type": "display_data"
    }
   ],
   "source": [
    "plt.plot(reg2.predict(TestData[TestData['STATKODE'] == 5104][['AAR']]))\n",
    "plt.show()"
   ]
  }
 ],
 "metadata": {
  "anaconda-cloud": {},
  "kernelspec": {
   "display_name": "Python [conda root]",
   "language": "python",
   "name": "conda-root-py"
  },
  "language_info": {
   "codemirror_mode": {
    "name": "ipython",
    "version": 2
   },
   "file_extension": ".py",
   "mimetype": "text/x-python",
   "name": "python",
   "nbconvert_exporter": "python",
   "pygments_lexer": "ipython2",
   "version": "2.7.12"
  }
 },
 "nbformat": 4,
 "nbformat_minor": 1
}
