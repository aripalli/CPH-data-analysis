{
 "cells": [
  {
   "cell_type": "markdown",
   "metadata": {},
   "source": [
    "**Load Libaries**"
   ]
  },
  {
   "cell_type": "code",
   "execution_count": 29,
   "metadata": {
    "collapsed": false
   },
   "outputs": [],
   "source": [
    "import pandas as pd\n",
    "import numpy as np\n",
    "import matplotlib.pyplot as plt\n",
    "from collections import Counter\n",
    "from __future__ import division\n",
    "from sklearn import linear_model"
   ]
  },
  {
   "cell_type": "markdown",
   "metadata": {},
   "source": [
    "**Motivation**\n",
    "\n",
    "*What nations are moving to CPH and how is the trend the last 20 years.*\n",
    "\n",
    "**What is your dataset?**\n",
    "\n",
    "*The raw dataset is from the [Open Copenhagen data](http://data.kk.dk/) and the data contains information about number of people in age group from different nation living in a specific district for each year from 1994 to 2015 in Copenhagen*\n",
    "<ol>\n",
    "   <p>**Variables in the dataset:** </p>\n",
    "  <li>Aar(e. Year)</li>\n",
    "  <li>Alder (e. Age)</li>\n",
    "  <li>Bydel (e. District) </li>\n",
    "  <li>Personer (e. Population) </li>\n",
    "  <li>Statkode (e. Code for nation) </li>\n",
    "</ol>\n",
    "\n",
    "You can get the data set **[here](http://data.kk.dk/dataset/befolkningen-efter-ar-bydel-alder-og-statsborgerskab)**\n",
    "\n",
    "\n",
    "\n",
    "\n",
    "**Why did you choose this/these particular dataset(s)?**\n",
    "\n",
    "*We wanted to see which nations are moving to Copenhagen through the years to see if there is something that we could explain. Like when the finacial crisis happend alot of Icelandic people starting move to the nordic countries.*\n",
    "\n",
    "\n",
    "**What was your goal for the end user's experience?**\n",
    "\n",
    "In the end the user can look up any country of his preference and see if that particular nation has any trend through the years. Also, find some interesting example of nations moving to Copenhagen or nations moving from Copenhagen.\n",
    "\n",
    "\n",
    "\n"
   ]
  },
  {
   "cell_type": "markdown",
   "metadata": {},
   "source": [
    "*Read in the raw data from open copenhagen data (http://data.kk.dk/dataset/befolkningen-efter-ar-bydel-alder-kon-og-civilstand) and taking out all of the Danes data as we are looking at foreign nation in CPH. Also, adding colum*"
   ]
  },
  {
   "cell_type": "code",
   "execution_count": 3,
   "metadata": {
    "collapsed": false
   },
   "outputs": [],
   "source": [
    "BefolkingKBH_Data = pd.read_csv('../Data/befkbhalderstatkode.csv')\n",
    "BefolkingKBH_Data_noDanes = BefolkingKBH_Data[(BefolkingKBH_Data['STATKODE'] != 5100)].copy()"
   ]
  },
  {
   "cell_type": "markdown",
   "metadata": {},
   "source": [
    "**Basic stats. Let's understand the dataset better**\n",
    "\n",
    "\n",
    "**Write about your choices in data cleaning and preprocessing**\n",
    "\n",
    "*We want to get the date set from the .csv file to a DataFrame and create three different DataFrame from the original DataFrame*\n",
    "\n",
    "*The first DataFrame (Kbh_Stats_noDanes) contains the all of the nations from the .csv file expect the Danes (The foreigners).\n",
    "The DataFrame contains the number of people from specific nation living in a specific district and the percentage of the specific nation divide by the total of every foreign nation living in the specific district*\n",
    "\n",
    "Example: (Not true values!)\n",
    "\n",
    "*Number of Icelandic people living in Østerbro the year 2015 was 100, however the total number of foreigners living in Østerbro was 1000. So, Icelandic people counted as 100/1000 = 0.1% of the foreigners living in Østerbro.*\n",
    "\n",
    "\n",
    "<ol>\n",
    "   <p>**Variables in the DataFrame (Kbh_Stats_noDanes) with the districts and without the danes:** </p>\n",
    "  <li>Aar(e. Year)</li>\n",
    "  <li>Statkode (e. Code for nation) </li>\n",
    "  <li>BYDEL (e. District) </li> \n",
    "  <li>Total</li>\n",
    "  <li>Percentage </li>\n",
    "</ol>\n",
    "\n",
    "\n",
    "*The second DataFrame containes the same information however, now we skip dividing into districts and just look at foreigners living in Copenhagen.*\n",
    "\n",
    "Example: (Not true values!)\n",
    "\n",
    "*Number of Icelandic people living in Copenhagen the year 2015 was 100 however the total number of foreigners living in Copenhagen was 1000. So, Icelandic people counted as 100/1000 = 0.1% of the foreigners living in Copenhagen.*\n",
    "\n",
    "<ol>\n",
    "   <p>**Variables in the DataFrame without danes and district:** </p>\n",
    "  <li>Aar(e. Year)</li>\n",
    "  <li>Statkode (e. Code for nation) </li>\n",
    "  <li>Total</li>\n",
    "  <li>Percentage </li>\n",
    "</ol>\n",
    "\n",
    "\n",
    "**Write a short section that discusses the dataset stats (here you can recycle the work you did for Project Assignment A)**\n",
    "\n",
    "*The dataset stats contains now both the total number of foreign nation living either in Copenhagen or in more specific district in Copenahgen and also, the percentage. This will give us a good indications on how the trend for specific countries living in copenhagen.*\n"
   ]
  },
  {
   "cell_type": "code",
   "execution_count": 118,
   "metadata": {
    "collapsed": true
   },
   "outputs": [],
   "source": [
    "# Here we create a unique list of Country, District, Age and year\n",
    "StatkodeList = BefolkingKBH_Data_noDanes.STATKODE.unique()\n",
    "BydelList = BefolkingKBH_Data_noDanes.BYDEL.unique()\n",
    "AlderList = BefolkingKBH_Data_noDanes.ALDER.unique()"
   ]
  },
  {
   "cell_type": "markdown",
   "metadata": {},
   "source": [
    "*Looping through the data and calculating the number of Danes each year in a specific district and also sum all upp all other nations. Also, finding the ration between Danes and foreign nation.*"
   ]
  },
  {
   "cell_type": "code",
   "execution_count": 135,
   "metadata": {
    "collapsed": false
   },
   "outputs": [],
   "source": [
    "# Here we process a dataset with the danes!\n",
    "Data_Array = np.array([]).reshape(0,5) # Create a numpy array\n",
    "for val,Year in enumerate(AarList):\n",
    "    for val3,District in enumerate(BydelList):\n",
    "        Total_Dane = sum((BefolkingKBH_Data[((BefolkingKBH_Data['AAR'] == Year)  \n",
    "                                        & (BefolkingKBH_Data['BYDEL'] == District)  \n",
    "                                       & (BefolkingKBH_Data['STATKODE'] == 5100) )])['PERSONER'])\n",
    "        \n",
    "        Total_Other = sum((BefolkingKBH_Data[((BefolkingKBH_Data['AAR'] == Year) \n",
    "                                                & ( (BefolkingKBH_Data['STATKODE'] is not 5100) ) \n",
    "                                                & ( (BefolkingKBH_Data['BYDEL'] == District) ) )])['PERSONER'])\n",
    "        data = Total_Dane/(Total_Other+Total_Dane)\n",
    "        Data_Array = np.append(Data_Array,[[Year,5100,District,Total_Dane,data]],axis = 0)\n",
    "        Data_Array = np.append(Data_Array,[[Year,0,District,Total_Other,1-data]],axis = 0)\n",
    "            \n",
    "# Create a dataframe from the numpy array and sort based on year, country number and district. \n",
    "Kbh_Stats = pd.DataFrame(Data_Array, columns = ['AAR', 'STATKODE', 'BYDEL','Total','Percentage'])\n",
    "Kbh_Stats = Kbh_Stats.sort_values(['AAR', 'STATKODE', 'BYDEL'], ascending = [1,1,1])"
   ]
  },
  {
   "cell_type": "markdown",
   "metadata": {},
   "source": [
    "*Looping through the data without Danes and calculated the percentage of each nation for each year. Takes along time to run and prints out the year to see the status of the process*"
   ]
  },
  {
   "cell_type": "code",
   "execution_count": 5,
   "metadata": {
    "collapsed": false
   },
   "outputs": [
    {
     "name": "stdout",
     "output_type": "stream",
     "text": [
      "2015\n",
      "2014\n",
      "2013\n",
      "2012\n",
      "2011\n",
      "2010\n",
      "2009\n",
      "2008\n",
      "2007\n",
      "2006\n",
      "2005\n",
      "2004\n",
      "2003\n",
      "2002\n",
      "2001\n",
      "2000\n",
      "1999\n",
      "1998\n",
      "1997\n",
      "1996\n",
      "1995\n",
      "1994\n",
      "1993\n",
      "1992\n"
     ]
    }
   ],
   "source": [
    "Data_Array_noDanes = np.array([]).reshape(0,5) # Create a empty numpy array\n",
    "for val,Year in enumerate(AarList):\n",
    "    print Year # Print out the year.. acts like a load bar to see how much of the process is left.\n",
    "    for val2,CountryNR in enumerate(StatkodeList):\n",
    "        for val3,District in enumerate(BydelList):\n",
    "            #Get the total number of foreigners living in specific district\n",
    "            Total = sum((BefolkingKBH_Data_noDanes[((BefolkingKBH_Data_noDanes['AAR'] == Year)  \n",
    "                                                    & ( (BefolkingKBH_Data_noDanes['BYDEL'] == District) ) )])['PERSONER'])\n",
    "            #Get the total number of specific foreigners living in specific district\n",
    "            Total_Country = sum((BefolkingKBH_Data_noDanes[((BefolkingKBH_Data_noDanes['AAR'] == Year) \n",
    "                                                            & ( (BefolkingKBH_Data_noDanes['STATKODE'] == CountryNR) ) \n",
    "                                                            & ( (BefolkingKBH_Data_noDanes['BYDEL'] == District) ) )])['PERSONER'])\n",
    "            if Total == 0:\n",
    "                data = 0.0\n",
    "            else :\n",
    "                data = Total_Country/Total # Calc the percentage\n",
    "            Data_Array_noDanes = np.append(Data_Array_noDanes,[[Year,CountryNR,District,Total_Country,data]],axis = 0)"
   ]
  },
  {
   "cell_type": "code",
   "execution_count": 46,
   "metadata": {
    "collapsed": false
   },
   "outputs": [],
   "source": [
    "# Transforming the numpy array to DataFrame and sort based on year, country number and district.\n",
    "Kbh_Stats_noDanes = pd.DataFrame(Data_Array_noDanes, columns = ['AAR', 'STATKODE', 'BYDEL','Total','Percentage'])\n",
    "Kbh_Stats_noDanes = Kbh_Stats_noDanes.sort_values(['AAR', 'STATKODE', 'BYDEL'], ascending = [1,1,1])"
   ]
  },
  {
   "cell_type": "code",
   "execution_count": 47,
   "metadata": {
    "collapsed": false
   },
   "outputs": [
    {
     "data": {
      "image/png": "[encoded data removed]",
      "text/plain": [
       "<matplotlib.figure.Figure at 0xa9e6128>"
      ]
     },
     "metadata": {},
     "output_type": "display_data"
    }
   ],
   "source": [
    "# Now just little bit visualizing of the data. Plot of the Icelandic people living in Indry By in CPH through the years\n",
    "Kbh_Stats_noDanes[((Kbh_Stats_noDanes['STATKODE'] == 5106) & (Kbh_Stats_noDanes['BYDEL'] == 1))].plot(x = 'AAR', y = 'Total')\n",
    "plt.show()"
   ]
  },
  {
   "cell_type": "code",
   "execution_count": 11,
   "metadata": {
    "collapsed": false
   },
   "outputs": [
    {
     "name": "stdout",
     "output_type": "stream",
     "text": [
      "2015\n",
      "2014\n",
      "2013\n",
      "2012\n",
      "2011\n",
      "2010\n",
      "2009\n",
      "2008\n",
      "2007\n",
      "2006\n",
      "2005\n",
      "2004\n",
      "2003\n",
      "2002\n",
      "2001\n",
      "2000\n",
      "1999\n",
      "1998\n",
      "1997\n",
      "1996\n",
      "1995\n",
      "1994\n",
      "1993\n",
      "1992\n"
     ]
    }
   ],
   "source": [
    "Data_noDanes_Allcph = np.array([]).reshape(0,4) # Create a empty numpy array\n",
    "for val,Year in enumerate(AarList):\n",
    "    print Year # Print out the year.. acts like a load bar to see how much of the process is left.\n",
    "    for val2,CountryNR in enumerate(StatkodeList):\n",
    "        # Calculating the total number of people living in Copenhagen\n",
    "        Total = sum((BefolkingKBH_Data_noDanes[((BefolkingKBH_Data_noDanes['AAR'] == Year) )])['PERSONER'])\n",
    "        # Calculating the total number of specific country living in Copenhagen\n",
    "        Total_Country = sum((BefolkingKBH_Data_noDanes[((BefolkingKBH_Data_noDanes['AAR'] == Year) \n",
    "                                                        & ( (BefolkingKBH_Data_noDanes['STATKODE'] == CountryNR) ) )])['PERSONER'])\n",
    "        if Total == 0:\n",
    "            data = 0.0\n",
    "        else :\n",
    "            data = Total_Country/Total # Calc the percentage\n",
    "        Data_noDanes_Allcph = np.append(Data_noDanes_Allcph,[[Year,CountryNR,Total_Country,data]],axis = 0)"
   ]
  },
  {
   "cell_type": "code",
   "execution_count": 121,
   "metadata": {
    "collapsed": false
   },
   "outputs": [],
   "source": [
    "# Transforming the numpy array to DataFrame and sort based on year, country number and district.\n",
    "Kbh_Stats_noDanes_nobydel = pd.DataFrame(Data_noDanes_Allcph, columns = ['AAR', 'STATKODE', 'Total' ,'Percentage'])\n",
    "Kbh_Stats_noDanes_nobydel = Kbh_Stats_noDanes_nobydel.sort_values(['AAR', 'STATKODE'], ascending = [1,1])"
   ]
  },
  {
   "cell_type": "code",
   "execution_count": 122,
   "metadata": {
    "collapsed": false,
    "scrolled": true
   },
   "outputs": [
    {
     "data": {
      "image/png": "[encoded data removed]",
      "text/plain": [
       "<matplotlib.figure.Figure at 0x12422048>"
      ]
     },
     "metadata": {},
     "output_type": "display_data"
    }
   ],
   "source": [
    "# Now just little bit visualizing of the data. Plot of the Icelandic people living in CPH through the years\n",
    "Kbh_Stats_noDanes_nobydel[Kbh_Stats_noDanes_nobydel['STATKODE'] == 5106].plot(x = 'AAR', y = 'Total')\n",
    "plt.show()"
   ]
  },
  {
   "cell_type": "code",
   "execution_count": 133,
   "metadata": {
    "collapsed": false
   },
   "outputs": [],
   "source": [
    "# We want to decode the country number and district number to there names\n",
    "deCoder = pd.read_csv('../Data/Statcode_decoder.csv')\n",
    "deCoderBydel = pd.read_csv('../Data/Bydel_decoder.csv')\n",
    "\n",
    "#First decode the countries\n",
    "for i in range(len(deCoder)):\n",
    "    Kbh_Stats_noDanes.loc[(Kbh_Stats_noDanes['STATKODE'] == deCoder['STATKODE'][i]),('COUNTRY')] = deCoder['COUNTRY'][i]\n",
    "    Kbh_Stats_noDanes_nobydel.loc[(Kbh_Stats_noDanes_nobydel['STATKODE'] == deCoder['STATKODE'][i]),('COUNTRY')] = deCoder['COUNTRY'][i]\n",
    "    \n",
    "# We know for the DataFrame KBH_Stats we have only Denmark and All other nation!\n",
    "Kbh_Stats.loc[(Kbh_Stats['STATKODE'] == 5100),('COUNTRY')] = 'Danmark'\n",
    "Kbh_Stats.loc[(Kbh_Stats['STATKODE'] == 0),('COUNTRY')] = 'Foreign Nations'\n",
    "    \n",
    "    \n",
    "# second decode the districts\n",
    "for i in range(len(deCoderBydel)):\n",
    "    Kbh_Stats_noDanes.loc[(Kbh_Stats_noDanes['BYDEL'] == deCoderBydel['BYDELNR'][i]),('DISTRICT')] = deCoderBydel['BYDEL'][i]\n",
    "    Kbh_Stats.loc[(Kbh_Stats['BYDEL'] == deCoderBydel['BYDELNR'][i]),('DISTRICT')] = deCoderBydel['BYDEL'][i]"
   ]
  },
  {
   "cell_type": "markdown",
   "metadata": {},
   "source": [
    "**Theory. Which theoretical tools did you use?**\n",
    "\n",
    "\n",
    "\n",
    "**Describe which machine learning tools you use and why the tools you've chosen are right for the problem you're solving.**\n",
    "\n",
    "We used regression to be able to predict for the amount of each foreign country living in Copenhagen. The regression was based on the year and the percentage of each country. \n",
    "\n",
    "\n",
    "**Talk about your model selection. How did you split the data in to test/training. Did you use cross validation?**\n",
    "\n",
    "\n",
    "**Explain the model performance. How did you measure it? Are your results what you expected?**"
   ]
  },
  {
   "cell_type": "code",
   "execution_count": 125,
   "metadata": {
    "collapsed": true
   },
   "outputs": [],
   "source": [
    "Data_Array = np.array([]).reshape(0,7)\n",
    "TrainingData = Kbh_Stats_noDanes_nobydel[(Kbh_Stats_noDanes_nobydel['AAR'] <= 2011)]\n",
    "TestData = Kbh_Stats_noDanes_nobydel[(Kbh_Stats_noDanes_nobydel['AAR'] > 2011)]\n",
    "unqStatKode = TrainingData['STATKODE'].unique()"
   ]
  },
  {
   "cell_type": "code",
   "execution_count": 126,
   "metadata": {
    "collapsed": false
   },
   "outputs": [],
   "source": [
    "regPerc = linear_model.LinearRegression()\n",
    "reg = linear_model.LinearRegression()\n",
    "predictYear = np.array([2012,2013,2014,2015])\n",
    "for val,i in enumerate(unqStatKode):\n",
    "    regPerc.fit(TrainingData[TrainingData['STATKODE'] == i][['AAR','Percentage']],\n",
    "                TrainingData[TrainingData['STATKODE'] == i][['Total']])\n",
    "    \n",
    "    PredPerc = regPerc.predict(TestData[TestData['STATKODE'] == i][['AAR','Percentage']])\n",
    "    \n",
    "    reg.fit(TrainingData[TrainingData['STATKODE'] == i][['AAR']],\n",
    "            TrainingData[TrainingData['STATKODE'] == i][['Total']])\n",
    "    \n",
    "    Pred = reg.predict(TestData[TestData['STATKODE'] == i][['AAR']])\n",
    "    \n",
    "    Country = TrainingData[TrainingData['STATKODE'] == i]['COUNTRY'].unique()\n",
    "    realData = TestData[TestData['STATKODE'] == i]['Total'].as_matrix()\n",
    "\n",
    "    for j in range(len(predictYear)):\n",
    "        Data_Array = np.append(Data_Array,\n",
    "                               [[Country[0],predictYear[j],\n",
    "                                 PredPerc[j][0],Pred[j][0],\n",
    "                                 realData[j],PredPerc[j][0]-realData[j],Pred[j][0]-realData[j]]],axis = 0)"
   ]
  },
  {
   "cell_type": "code",
   "execution_count": 127,
   "metadata": {
    "collapsed": false
   },
   "outputs": [],
   "source": [
    "Predictions = pd.DataFrame(Data_Array, columns = ['COUNTRY', 'AAR', 'Predictions_Perc','Predictions','Real','Error_Perc','Error'])\n",
    "Predictions['AAR'] = Predictions['AAR'].astype('float64')\n",
    "Predictions['Predictions_Perc'] = Predictions['Predictions_Perc'].astype('float64')\n",
    "Predictions['Predictions'] = Predictions['Predictions'].astype('float64')\n",
    "Predictions['Real'] = Predictions['Real'].astype('float64')\n",
    "Predictions['Error_Perc'] = Predictions['Error_Perc'].astype('float64')\n",
    "Predictions['Error'] = Predictions['Error'].astype('float64')\n",
    "\n",
    "#df['MyColumnName'] = df['MyColumnName'].astype('float64') "
   ]
  },
  {
   "cell_type": "code",
   "execution_count": 128,
   "metadata": {
    "collapsed": false
   },
   "outputs": [
    {
     "data": {
      "text/html": [
       "<div>\n",
       "<table border=\"1\" class=\"dataframe\">\n",
       "  <thead>\n",
       "    <tr style=\"text-align: right;\">\n",
       "      <th></th>\n",
       "      <th>AAR</th>\n",
       "      <th>STATKODE</th>\n",
       "      <th>Total</th>\n",
       "      <th>Percentage</th>\n",
       "      <th>COUNTRY</th>\n",
       "    </tr>\n",
       "  </thead>\n",
       "  <tbody>\n",
       "    <tr>\n",
       "      <th>580</th>\n",
       "      <td>2012.0</td>\n",
       "      <td>5106.0</td>\n",
       "      <td>2015.0</td>\n",
       "      <td>0.026248</td>\n",
       "      <td>Island</td>\n",
       "    </tr>\n",
       "    <tr>\n",
       "      <th>387</th>\n",
       "      <td>2013.0</td>\n",
       "      <td>5106.0</td>\n",
       "      <td>1993.0</td>\n",
       "      <td>0.025167</td>\n",
       "      <td>Island</td>\n",
       "    </tr>\n",
       "    <tr>\n",
       "      <th>194</th>\n",
       "      <td>2014.0</td>\n",
       "      <td>5106.0</td>\n",
       "      <td>1934.0</td>\n",
       "      <td>0.023052</td>\n",
       "      <td>Island</td>\n",
       "    </tr>\n",
       "    <tr>\n",
       "      <th>1</th>\n",
       "      <td>2015.0</td>\n",
       "      <td>5106.0</td>\n",
       "      <td>1968.0</td>\n",
       "      <td>0.022445</td>\n",
       "      <td>Island</td>\n",
       "    </tr>\n",
       "  </tbody>\n",
       "</table>\n",
       "</div>"
      ],
      "text/plain": [
       "        AAR  STATKODE   Total  Percentage COUNTRY\n",
       "580  2012.0    5106.0  2015.0    0.026248  Island\n",
       "387  2013.0    5106.0  1993.0    0.025167  Island\n",
       "194  2014.0    5106.0  1934.0    0.023052  Island\n",
       "1    2015.0    5106.0  1968.0    0.022445  Island"
      ]
     },
     "execution_count": 128,
     "metadata": {},
     "output_type": "execute_result"
    }
   ],
   "source": [
    "TestData[TestData['COUNTRY'] == 'Island']"
   ]
  },
  {
   "cell_type": "code",
   "execution_count": 129,
   "metadata": {
    "collapsed": false
   },
   "outputs": [
    {
     "data": {
      "image/png": "[encoded data removed]",
      "text/plain": [
       "<matplotlib.figure.Figure at 0x1326c908>"
      ]
     },
     "metadata": {},
     "output_type": "display_data"
    },
    {
     "data": {
      "image/png": "[encoded data removed]",
      "text/plain": [
       "<matplotlib.figure.Figure at 0xa4a8ac8>"
      ]
     },
     "metadata": {},
     "output_type": "display_data"
    }
   ],
   "source": [
    "fig, ax = plt.subplots(1, 1)\n",
    "country = 'USA'\n",
    "Predictions[Predictions['COUNTRY'] == country].plot(x = 'AAR', y = 'Predictions_Perc', ax= ax)\n",
    "Predictions[Predictions['COUNTRY'] == country].plot(x = 'AAR', y = 'Predictions', ax= ax)\n",
    "Kbh_Stats_noDanes_nobydel[Kbh_Stats_noDanes_nobydel['COUNTRY'] == country].plot(x = 'AAR', y ='Total', ax = ax)\n",
    "plt.show()\n",
    "\n",
    "fig, ax = plt.subplots(1, 1)\n",
    "Predictions[Predictions['COUNTRY'] == country].plot(x = 'AAR', y = 'Predictions_Perc', ax= ax)\n",
    "Predictions[Predictions['COUNTRY'] == country].plot(x = 'AAR', y = 'Predictions', ax= ax)\n",
    "TestData[TestData['COUNTRY'] == country].plot(x = 'AAR', y ='Total', ax = ax)\n",
    "plt.show()"
   ]
  },
  {
   "cell_type": "code",
   "execution_count": 37,
   "metadata": {
    "collapsed": true
   },
   "outputs": [],
   "source": [
    "CountryUnq = Kbh_Stats_noDanes_nobydel['COUNTRY'].unique()\n",
    "Years = Kbh_Stats_noDanes_nobydel['AAR'].unique()"
   ]
  },
  {
   "cell_type": "code",
   "execution_count": 38,
   "metadata": {
    "collapsed": false
   },
   "outputs": [],
   "source": [
    "Top25 = pd.DataFrame(columns = ['AAR','STATKODE','Total','Percentage','COUNTRY'])\n",
    "for val,i in enumerate(Years):\n",
    "    TopDataYear = Kbh_Stats_noDanes_nobydel[Kbh_Stats_noDanes_nobydel['AAR'] == i].nlargest(25,'Total')\n",
    "    Top25 = Top25.append(TopDataYear)"
   ]
  },
  {
   "cell_type": "code",
   "execution_count": 134,
   "metadata": {
    "collapsed": true
   },
   "outputs": [],
   "source": [
    "# Creata a csv file of the Dataframe.\n",
    "Kbh_Stats_noDanes_nobydel.to_csv('KBH_Stats_noDanes_noBydel_1.csv', sep=',', encoding='utf-8',index = False)\n",
    "Kbh_Stats_noDanes.to_csv('KBH_Stats_noDanes.csv', sep=',', encoding='utf-8',index = False)\n",
    "Kbh_Stats.to_csv('KBH_Stats.csv', sep=',', encoding='utf-8',index = False)\n",
    "Predictions.to_csv('KBH_Stats_Predictions.csv', sep=',', encoding='utf-8',index = False)\n",
    "Top25[['AAR','Total','COUNTRY']].to_csv('KBH_Top25_AllYears.csv', sep=',', encoding='utf-8',index = False)"
   ]
  }
 ],
 "metadata": {
  "anaconda-cloud": {},
  "kernelspec": {
   "display_name": "Python [conda root]",
   "language": "python",
   "name": "conda-root-py"
  },
  "language_info": {
   "codemirror_mode": {
    "name": "ipython",
    "version": 2
   },
   "file_extension": ".py",
   "mimetype": "text/x-python",
   "name": "python",
   "nbconvert_exporter": "python",
   "pygments_lexer": "ipython2",
   "version": "2.7.12"
  }
 },
 "nbformat": 4,
 "nbformat_minor": 1
}
