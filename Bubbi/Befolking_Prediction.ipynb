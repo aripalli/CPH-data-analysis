{
 "cells": [
  {
   "cell_type": "code",
   "execution_count": 32,
   "metadata": {
    "collapsed": true
   },
   "outputs": [],
   "source": [
    "import pandas as pd\n",
    "import numpy as np\n",
    "import matplotlib.pyplot as plt\n",
    "from collections import Counter\n",
    "from __future__ import division\n",
    "from sklearn import linear_model"
   ]
  },
  {
   "cell_type": "code",
   "execution_count": 197,
   "metadata": {
    "collapsed": false
   },
   "outputs": [],
   "source": [
    "AllData = pd.read_csv('KBH_Stats_noDanes_noBydel_1.csv',usecols=[\"AAR\", \"Total\", \"STATKODE\", \"Percentage\",\"COUNTRY\"])"
   ]
  },
  {
   "cell_type": "code",
   "execution_count": 242,
   "metadata": {
    "collapsed": false
   },
   "outputs": [],
   "source": [
    "unqStatKode = TrainingData['STATKODE'].unique()"
   ]
  },
  {
   "cell_type": "code",
   "execution_count": 235,
   "metadata": {
    "collapsed": false
   },
   "outputs": [],
   "source": [
    "Data_Array = np.array([]).reshape(0,5)\n",
    "TrainingData = AllData[(AllData['AAR'] <= 2011)]\n",
    "TestData = AllData[(AllData['AAR'] > 2011)]"
   ]
  },
  {
   "cell_type": "code",
   "execution_count": 236,
   "metadata": {
    "collapsed": false
   },
   "outputs": [],
   "source": [
    "regPerc = linear_model.LinearRegression()\n",
    "reg = linear_model.LinearRegression()\n",
    "predictYear = np.array([2012,2013,2014,2015])\n",
    "for val,i in enumerate(unqStatKode):\n",
    "    regPerc.fit(TrainingData[TrainingData['STATKODE'] == i][['AAR','Percentage']],\n",
    "    TrainingData[TrainingData['STATKODE'] == i][['Total']])\n",
    "    PredPerc = regPerc.predict(TestData[TestData['STATKODE'] == i][['AAR','Percentage']])\n",
    "    reg.fit(TrainingData[TrainingData['STATKODE'] == i][['AAR']],\n",
    "    TrainingData[TrainingData['STATKODE'] == i][['Total']])\n",
    "    Pred = reg.predict(TestData[TestData['STATKODE'] == i][['AAR']])\n",
    "    Country = TrainingData[TrainingData['STATKODE'] == i]['COUNTRY'].unique()\n",
    "    realData = TestData[TestData['STATKODE'] == i]['Total'].as_matrix()\n",
    "\n",
    "    for j in range(len(predictYear)):\n",
    "        Data_Array = np.append(Data_Array,\n",
    "                               [[Country[0],predictYear[j],\n",
    "                                 PredPerc[j][0],Pred[j][0],\n",
    "                                 realData[j]]],axis = 0)"
   ]
  },
  {
   "cell_type": "code",
   "execution_count": 241,
   "metadata": {
    "collapsed": false
   },
   "outputs": [],
   "source": [
    "Predictions = pd.DataFrame(Data_Array, columns = ['COUNTRY', 'AAR', 'Predictions_Perc','Predictions','Real'])\n",
    "Predictions\n",
    "Predictions.to_csv('KBH_Stats_Predictions.csv', sep=',', encoding='utf-8',index = False)"
   ]
  },
  {
   "cell_type": "code",
   "execution_count": 147,
   "metadata": {
    "collapsed": false
   },
   "outputs": [
    {
     "name": "stdout",
     "output_type": "stream",
     "text": [
      "[[  7.45931603e-01   5.41608826e+04]]\n",
      "[-1488.69888518]\n"
     ]
    }
   ],
   "source": [
    "X_Training = np.asarray(TrainingData[['AAR','STATKODE']])\n",
    "Y_Training = np.asarray((TrainingData['Total']))\n",
    "X_Test = np.asarray(TestData[['AAR','STATKODE']])\n",
    "Y_Test  = np.asarray((TestData['Total']))\n",
    "Y_Training\n",
    "reg2 = linear_model.LinearRegression()\n",
    "reg2.fit(TrainingData[TrainingData['STATKODE'] == 5708][['AAR','Percentage']],\n",
    "         TrainingData[TrainingData['STATKODE'] == 5708][['Total']])\n",
    "print reg2.coef_\n",
    "print reg2.intercept_\n",
    "X_Test = np.asarray(TestData[TestData['STATKODE'] == 5106][['AAR','STATKODE']])\n",
    "reg2.predict(TestData[TestData['STATKODE'] == 5708][['AAR','Percentage']])\n",
    "plt.plot(reg2.predict(TestData[TestData['STATKODE'] == 5708][['AAR','Percentage']]))\n",
    "plt.show()"
   ]
  }
 ],
 "metadata": {
  "anaconda-cloud": {},
  "kernelspec": {
   "display_name": "Python [conda root]",
   "language": "python",
   "name": "conda-root-py"
  },
  "language_info": {
   "codemirror_mode": {
    "name": "ipython",
    "version": 2
   },
   "file_extension": ".py",
   "mimetype": "text/x-python",
   "name": "python",
   "nbconvert_exporter": "python",
   "pygments_lexer": "ipython2",
   "version": "2.7.12"
  }
 },
 "nbformat": 4,
 "nbformat_minor": 1
}
