{
 "cells": [
  {
   "cell_type": "markdown",
   "metadata": {},
   "source": [
    "**Load Libraries**"
   ]
  },
  {
   "cell_type": "code",
   "execution_count": 3,
   "metadata": {
    "collapsed": true
   },
   "outputs": [],
   "source": [
    "import pandas as pd\n",
    "import numpy as np\n",
    "import matplotlib.pyplot as plt\n",
    "from collections import Counter\n",
    "from __future__ import division\n",
    "from sklearn import linear_model"
   ]
  },
  {
   "cell_type": "markdown",
   "metadata": {},
   "source": [
    "**Load the data**"
   ]
  },
  {
   "cell_type": "code",
   "execution_count": 4,
   "metadata": {
    "collapsed": false
   },
   "outputs": [],
   "source": [
    "AllData = pd.read_csv('KBH_Stats_noDanes_noBydel_1.csv')"
   ]
  },
  {
   "cell_type": "markdown",
   "metadata": {},
   "source": [
    "*Creating the training data as data before 2012 and the test data as data after 2011.\n",
    "Also, get the all of the country numbers to be able to create regression model for each of the country and predict*"
   ]
  },
  {
   "cell_type": "code",
   "execution_count": 5,
   "metadata": {
    "collapsed": false
   },
   "outputs": [],
   "source": [
    "Data_Array = np.array([]).reshape(0,7)\n",
    "TrainingData = AllData[(AllData['AAR'] <= 2011)]\n",
    "TestData = AllData[(AllData['AAR'] > 2011)]\n",
    "unqStatKode = TrainingData['STATKODE'].unique()"
   ]
  },
  {
   "cell_type": "markdown",
   "metadata": {},
   "source": [
    "*Looping through each country and create regression and predict.*"
   ]
  },
  {
   "cell_type": "code",
   "execution_count": 6,
   "metadata": {
    "collapsed": false
   },
   "outputs": [],
   "source": [
    "regPerc = linear_model.LinearRegression()\n",
    "reg = linear_model.LinearRegression()\n",
    "predictYear = np.array([2012,2013,2014,2015])\n",
    "for val,i in enumerate(unqStatKode):\n",
    "    regPerc.fit(TrainingData[TrainingData['STATKODE'] == i][['AAR','Percentage']],\n",
    "    TrainingData[TrainingData['STATKODE'] == i][['Total']])\n",
    "    PredPerc = regPerc.predict(TestData[TestData['STATKODE'] == i][['AAR','Percentage']])\n",
    "    reg.fit(TrainingData[TrainingData['STATKODE'] == i][['AAR']],\n",
    "    TrainingData[TrainingData['STATKODE'] == i][['Total']])\n",
    "    Pred = reg.predict(TestData[TestData['STATKODE'] == i][['AAR']])\n",
    "    Country = TrainingData[TrainingData['STATKODE'] == i]['COUNTRY'].unique()\n",
    "    realData = TestData[TestData['STATKODE'] == i]['Total'].as_matrix()\n",
    "\n",
    "    for j in range(len(predictYear)):\n",
    "        Data_Array = np.append(Data_Array,\n",
    "                               [[Country[0],predictYear[j],\n",
    "                                 PredPerc[j][0],Pred[j][0],\n",
    "                                 realData[j],PredPerc[j][0]-realData[j],Pred[j][0]-realData[j]]],axis = 0)"
   ]
  },
  {
   "cell_type": "markdown",
   "metadata": {},
   "source": [
    "*Set up the prediction data in DataFrame and saved to .csv file.*"
   ]
  },
  {
   "cell_type": "code",
   "execution_count": 7,
   "metadata": {
    "collapsed": false
   },
   "outputs": [],
   "source": [
    "Predictions = pd.DataFrame(Data_Array, columns = ['COUNTRY', 'AAR', 'Predictions_Perc','Predictions','Real','Error_Perc','Error'])\n",
    "Predictions\n",
    "Predictions.to_csv('KBH_Stats_Predictions.csv', sep=',', encoding='utf-8',index = False)"
   ]
  },
  {
   "cell_type": "markdown",
   "metadata": {},
   "source": [
    "*Create list of Countries name and years*"
   ]
  },
  {
   "cell_type": "code",
   "execution_count": 8,
   "metadata": {
    "collapsed": false
   },
   "outputs": [],
   "source": [
    "CountryUnq = AllData['COUNTRY'].unique()\n",
    "Years = AllData['AAR'].unique()"
   ]
  },
  {
   "cell_type": "markdown",
   "metadata": {},
   "source": [
    "*Finding top 25 most populated nation in CPH and sum the rest into one variable as Other and save to .csv file*"
   ]
  },
  {
   "cell_type": "code",
   "execution_count": 9,
   "metadata": {
    "collapsed": false
   },
   "outputs": [],
   "source": [
    "TopData2015 = AllData[AllData['AAR'] == 2015].nlargest(25,'Total')\n",
    "LowData2015 = AllData[AllData['AAR'] == 2015].nsmallest(len(CountryUnq)-25,'Total')\n",
    "d = {'AAR':2015, 'STATKODE': 1, 'Total': LowData2015['Total'].sum(), 'Percentage': 0, 'COUNTRY': 'Other' }\n",
    "df = pd.DataFrame(data=d,index=[1], columns = ['AAR','STATKODE','Total','Percentage','COUNTRY'])\n",
    "TopData2015 = TopData2015.append(df)\n",
    "TopData2015[['AAR','Total','COUNTRY']].to_csv('KBH_Top25.csv', sep=',', encoding='utf-8',index = False)"
   ]
  },
  {
   "cell_type": "code",
   "execution_count": 25,
   "metadata": {
    "collapsed": false
   },
   "outputs": [],
   "source": [
    "Top25 = pd.DataFrame(columns = ['AAR','STATKODE','Total','Percentage','COUNTRY'])\n",
    "for val,i in enumerate(Years):\n",
    "    TopDataYear = AllData[AllData['AAR'] == i].nlargest(25,'Total')\n",
    "    Top25 = Top25.append(TopDataYear)"
   ]
  },
  {
   "cell_type": "code",
   "execution_count": 26,
   "metadata": {
    "collapsed": false
   },
   "outputs": [
    {
     "name": "stdout",
     "output_type": "stream",
     "text": [
      "         AAR  STATKODE   Total  Percentage         COUNTRY\n",
      "30    1992.0    5172.0  5272.0    0.139486         Tyrkiet\n",
      "20    1992.0    5152.0  4433.0    0.117288     Jugoslavien\n",
      "146   1992.0    5472.0  3161.0    0.083633        Pakistan\n",
      "29    1992.0    5170.0  2954.0    0.078156  Storbritannien\n",
      "7     1992.0    5110.0  1881.0    0.049767           Norge\n",
      "9     1992.0    5120.0  1780.0    0.047095         Sverige\n",
      "53    1992.0    5244.0  1763.0    0.046645         Marokko\n",
      "132   1992.0    5438.0  1349.0    0.035692            Iran\n",
      "115   1992.0    5390.0  1092.0    0.028892             USA\n",
      "32    1992.0    5180.0   957.0    0.025320        Tyskland\n",
      "22    1992.0    5154.0   860.0    0.022754           Polen\n",
      "14    1992.0    5130.0   769.0    0.020346        Frankrig\n",
      "18    1992.0    5150.0   706.0    0.018679         Italien\n",
      "4     1992.0    5106.0   652.0    0.017251          Island\n",
      "1     1992.0    5103.0   593.0    0.015689        Statsløs\n",
      "131   1992.0    5436.0   576.0    0.015240            Irak\n",
      "2     1992.0    5104.0   528.0    0.013970         Finland\n",
      "147   1992.0    5474.0   522.0    0.013811    Filippinerne\n",
      "135   1992.0    5446.0   434.0    0.011483          Jordan\n",
      "136   1992.0    5448.0   421.0    0.011139            Kina\n",
      "154   1992.0    5492.0   421.0    0.011139        Thailand\n",
      "139   1992.0    5456.0   357.0    0.009445         Libanon\n",
      "129   1992.0    5432.0   318.0    0.008414          Indien\n",
      "16    1992.0    5140.0   309.0    0.008175    Nederlandene\n",
      "17    1992.0    5142.0   300.0    0.007937          Irland\n",
      "222   1993.0    5172.0  5441.0    0.136253         Tyrkiet\n",
      "212   1993.0    5152.0  4633.0    0.116019     Jugoslavien\n",
      "338   1993.0    5472.0  3264.0    0.081737        Pakistan\n",
      "221   1993.0    5170.0  3008.0    0.075326  Storbritannien\n",
      "199   1993.0    5110.0  1907.0    0.047755           Norge\n",
      "...      ...       ...     ...         ...             ...\n",
      "4407  2014.0    5756.0  1441.0    0.017176      Makedonien\n",
      "4371  2014.0    5474.0  1397.0    0.016652    Filippinerne\n",
      "4368  2014.0    5464.0  1370.0    0.016330           Nepal\n",
      "4390  2014.0    5611.0  1276.0    0.015210         Litauen\n",
      "4236  2014.0    5128.0  1219.0    0.014530       Bulgarien\n",
      "4425  2015.0    5120.0  4745.0    0.054119         Sverige\n",
      "4445  2015.0    5170.0  4523.0    0.051587  Storbritannien\n",
      "4562  2015.0    5472.0  4502.0    0.051348        Pakistan\n",
      "4423  2015.0    5110.0  4093.0    0.046683           Norge\n",
      "4448  2015.0    5180.0  4021.0    0.045862        Tyskland\n",
      "4438  2015.0    5154.0  3906.0    0.044550           Polen\n",
      "4446  2015.0    5172.0  3792.0    0.043250         Tyrkiet\n",
      "4434  2015.0    5150.0  3069.0    0.035003         Italien\n",
      "4552  2015.0    5448.0  2552.0    0.029107            Kina\n",
      "4547  2015.0    5436.0  2544.0    0.029016            Irak\n",
      "4531  2015.0    5390.0  2534.0    0.028902             USA\n",
      "4545  2015.0    5432.0  2168.0    0.024727          Indien\n",
      "4430  2015.0    5130.0  2156.0    0.024590        Frankrig\n",
      "4492  2015.0    5289.0  2087.0    0.023803         Somalia\n",
      "4444  2015.0    5164.0  1999.0    0.022800         Spanien\n",
      "4420  2015.0    5106.0  1968.0    0.022446          Island\n",
      "4440  2015.0    5158.0  1891.0    0.021568        Rumænien\n",
      "4560  2015.0    5464.0  1692.0    0.019298           Nepal\n",
      "4570  2015.0    5492.0  1544.0    0.017610        Thailand\n",
      "4599  2015.0    5756.0  1518.0    0.017314      Makedonien\n",
      "4469  2015.0    5244.0  1499.0    0.017097         Marokko\n",
      "4436  2015.0    5152.0  1487.0    0.016960     Jugoslavien\n",
      "4428  2015.0    5128.0  1413.0    0.016116       Bulgarien\n",
      "4563  2015.0    5474.0  1396.0    0.015922    Filippinerne\n",
      "4582  2015.0    5611.0  1348.0    0.015375         Litauen\n",
      "\n",
      "[600 rows x 5 columns]\n"
     ]
    }
   ],
   "source": [
    "print Top25"
   ]
  },
  {
   "cell_type": "markdown",
   "metadata": {},
   "source": [
    "*Creating the average of population of every nation and save to .csv file *"
   ]
  },
  {
   "cell_type": "code",
   "execution_count": 52,
   "metadata": {
    "collapsed": true
   },
   "outputs": [],
   "source": [
    "Data_Array = np.array([]).reshape(0,2)\n",
    "for val,i in enumerate(CountryUnq):\n",
    "    AvNum = AllData[AllData['COUNTRY'] == i]['Total'].sum()/len(Years)\n",
    "    Data_Array = np.append(Data_Array,[[i,AvNum]], axis=0)\n",
    "    \n",
    "AvCountry = pd.DataFrame(Data_Array, columns = ['COUNTRY', 'AVERAGE'])\n",
    "AvCountry['AVERAGE'] =AvCountry['AVERAGE'].astype('float64')\n",
    "AvCountry = AvCountry.sort_values('AVERAGE', ascending = False)\n",
    "AvCountry.to_csv('AverageCountry.csv', sep=',', encoding='utf-8',index = False)"
   ]
  }
 ],
 "metadata": {
  "anaconda-cloud": {},
  "kernelspec": {
   "display_name": "Python [conda root]",
   "language": "python",
   "name": "conda-root-py"
  },
  "language_info": {
   "codemirror_mode": {
    "name": "ipython",
    "version": 2
   },
   "file_extension": ".py",
   "mimetype": "text/x-python",
   "name": "python",
   "nbconvert_exporter": "python",
   "pygments_lexer": "ipython2",
   "version": "2.7.12"
  }
 },
 "nbformat": 4,
 "nbformat_minor": 1
}
