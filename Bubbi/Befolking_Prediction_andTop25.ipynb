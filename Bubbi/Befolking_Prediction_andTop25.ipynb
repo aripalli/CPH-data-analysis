{
 "cells": [
  {
   "cell_type": "markdown",
   "metadata": {},
   "source": [
    "**Load Libraries**"
   ]
  },
  {
   "cell_type": "code",
   "execution_count": 3,
   "metadata": {
    "collapsed": true
   },
   "outputs": [],
   "source": [
    "import pandas as pd\n",
    "import numpy as np\n",
    "import matplotlib.pyplot as plt\n",
    "from collections import Counter\n",
    "from __future__ import division\n",
    "from sklearn import linear_model"
   ]
  },
  {
   "cell_type": "markdown",
   "metadata": {},
   "source": [
    "**Load the data**"
   ]
  },
  {
   "cell_type": "code",
   "execution_count": 4,
   "metadata": {
    "collapsed": false
   },
   "outputs": [],
   "source": [
    "AllData = pd.read_csv('KBH_Stats_noDanes_noBydel_1.csv')"
   ]
  },
  {
   "cell_type": "markdown",
   "metadata": {},
   "source": [
    "*Creating the training data as data before 2012 and the test data as data after 2011.\n",
    "Also, get the all of the country numbers to be able to create regression model for each of the country and predict*"
   ]
  },
  {
   "cell_type": "code",
   "execution_count": 5,
   "metadata": {
    "collapsed": false
   },
   "outputs": [],
   "source": [
    "Data_Array = np.array([]).reshape(0,7)\n",
    "TrainingData = AllData[(AllData['AAR'] <= 2011)]\n",
    "TestData = AllData[(AllData['AAR'] > 2011)]\n",
    "unqStatKode = TrainingData['STATKODE'].unique()"
   ]
  },
  {
   "cell_type": "markdown",
   "metadata": {},
   "source": [
    "*Looping through each country and create regression and predict.*"
   ]
  },
  {
   "cell_type": "code",
   "execution_count": 6,
   "metadata": {
    "collapsed": false
   },
   "outputs": [],
   "source": [
    "regPerc = linear_model.LinearRegression()\n",
    "reg = linear_model.LinearRegression()\n",
    "predictYear = np.array([2012,2013,2014,2015])\n",
    "for val,i in enumerate(unqStatKode):\n",
    "    regPerc.fit(TrainingData[TrainingData['STATKODE'] == i][['AAR','Percentage']],\n",
    "    TrainingData[TrainingData['STATKODE'] == i][['Total']])\n",
    "    PredPerc = regPerc.predict(TestData[TestData['STATKODE'] == i][['AAR','Percentage']])\n",
    "    reg.fit(TrainingData[TrainingData['STATKODE'] == i][['AAR']],\n",
    "    TrainingData[TrainingData['STATKODE'] == i][['Total']])\n",
    "    Pred = reg.predict(TestData[TestData['STATKODE'] == i][['AAR']])\n",
    "    Country = TrainingData[TrainingData['STATKODE'] == i]['COUNTRY'].unique()\n",
    "    realData = TestData[TestData['STATKODE'] == i]['Total'].as_matrix()\n",
    "\n",
    "    for j in range(len(predictYear)):\n",
    "        Data_Array = np.append(Data_Array,\n",
    "                               [[Country[0],predictYear[j],\n",
    "                                 PredPerc[j][0],Pred[j][0],\n",
    "                                 realData[j],PredPerc[j][0]-realData[j],Pred[j][0]-realData[j]]],axis = 0)"
   ]
  },
  {
   "cell_type": "markdown",
   "metadata": {},
   "source": [
    "*Set up the prediction data in DataFrame and saved to .csv file.*"
   ]
  },
  {
   "cell_type": "code",
   "execution_count": 7,
   "metadata": {
    "collapsed": false
   },
   "outputs": [],
   "source": [
    "Predictions = pd.DataFrame(Data_Array, columns = ['COUNTRY', 'AAR', 'Predictions_Perc','Predictions','Real','Error_Perc','Error'])\n",
    "Predictions\n",
    "Predictions.to_csv('KBH_Stats_Predictions.csv', sep=',', encoding='utf-8',index = False)"
   ]
  },
  {
   "cell_type": "markdown",
   "metadata": {},
   "source": [
    "*Create list of Countries name and years*"
   ]
  },
  {
   "cell_type": "code",
   "execution_count": 8,
   "metadata": {
    "collapsed": false
   },
   "outputs": [],
   "source": [
    "CountryUnq = AllData['COUNTRY'].unique()\n",
    "Years = AllData['AAR'].unique()"
   ]
  },
  {
   "cell_type": "markdown",
   "metadata": {},
   "source": [
    "*Finding top 25 most populated nation in CPH and sum the rest into one variable as Other and save to .csv file*"
   ]
  },
  {
   "cell_type": "code",
   "execution_count": 9,
   "metadata": {
    "collapsed": false
   },
   "outputs": [],
   "source": [
    "TopData2015 = AllData[AllData['AAR'] == 2015].nlargest(25,'Total')\n",
    "LowData2015 = AllData[AllData['AAR'] == 2015].nsmallest(len(CountryUnq)-25,'Total')\n",
    "d = {'AAR':2015, 'STATKODE': 1, 'Total': LowData2015['Total'].sum(), 'Percentage': 0, 'COUNTRY': 'Other' }\n",
    "df = pd.DataFrame(data=d,index=[1], columns = ['AAR','STATKODE','Total','Percentage','COUNTRY'])\n",
    "TopData2015 = TopData2015.append(df)\n",
    "TopData2015[['AAR','Total','COUNTRY']].to_csv('KBH_Top25.csv', sep=',', encoding='utf-8',index = False)"
   ]
  },
  {
   "cell_type": "code",
   "execution_count": 25,
   "metadata": {
    "collapsed": false
   },
   "outputs": [],
   "source": [
    "Top25 = pd.DataFrame(columns = ['AAR','STATKODE','Total','Percentage','COUNTRY'])\n",
    "for val,i in enumerate(Years):\n",
    "    TopDataYear = AllData[AllData['AAR'] == i].nlargest(25,'Total')\n",
    "    Top25 = Top25.append(TopDataYear)"
   ]
  },
  {
   "cell_type": "code",
   "execution_count": 29,
   "metadata": {
    "collapsed": false
   },
   "outputs": [],
   "source": [
    "Top25[['AAR','Total','COUNTRY']].to_csv('KBH_Top25_AllYears.csv', sep=',', encoding='utf-8',index = False)"
   ]
  },
  {
   "cell_type": "markdown",
   "metadata": {},
   "source": [
    "*Creating the average of population of every nation and save to .csv file *"
   ]
  },
  {
   "cell_type": "code",
   "execution_count": 28,
   "metadata": {
    "collapsed": true
   },
   "outputs": [],
   "source": [
    "Data_Array = np.array([]).reshape(0,2)\n",
    "for val,i in enumerate(CountryUnq):\n",
    "    AvNum = AllData[AllData['COUNTRY'] == i]['Total'].sum()/len(Years)\n",
    "    Data_Array = np.append(Data_Array,[[i,AvNum]], axis=0)\n",
    "    \n",
    "AvCountry = pd.DataFrame(Data_Array, columns = ['COUNTRY', 'AVERAGE'])\n",
    "AvCountry['AVERAGE'] =AvCountry['AVERAGE'].astype('float64')\n",
    "AvCountry = AvCountry.sort_values('AVERAGE', ascending = False)\n",
    "AvCountry.to_csv('AverageCountry.csv', sep=',', encoding='utf-8',index = False)"
   ]
  }
 ],
 "metadata": {
  "anaconda-cloud": {},
  "kernelspec": {
   "display_name": "Python [conda root]",
   "language": "python",
   "name": "conda-root-py"
  },
  "language_info": {
   "codemirror_mode": {
    "name": "ipython",
    "version": 2
   },
   "file_extension": ".py",
   "mimetype": "text/x-python",
   "name": "python",
   "nbconvert_exporter": "python",
   "pygments_lexer": "ipython2",
   "version": "2.7.12"
  }
 },
 "nbformat": 4,
 "nbformat_minor": 1
}
