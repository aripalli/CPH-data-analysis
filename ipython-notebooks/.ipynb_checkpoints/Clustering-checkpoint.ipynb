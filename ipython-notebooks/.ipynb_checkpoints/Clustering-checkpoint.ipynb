{
 "cells": [
  {
   "cell_type": "code",
   "execution_count": 1,
   "metadata": {
    "collapsed": true
   },
   "outputs": [],
   "source": [
    "import numpy as np\n",
    "import pandas as pd\n",
    "import geojson\n",
    "import matplotlib.pyplot as plt\n",
    "from __future__ import division\n",
    "from collections import Counter\n",
    "from operator import itemgetter\n",
    "import numpy as np\n",
    "from sklearn.preprocessing import StandardScaler\n",
    "from sklearn.metrics import mean_squared_error\n",
    "from sklearn.cluster import DBSCAN\n",
    "from sklearn.cluster import KMeans\n",
    "\n",
    "%matplotlib inline"
   ]
  },
  {
   "cell_type": "code",
   "execution_count": 2,
   "metadata": {
    "collapsed": true
   },
   "outputs": [],
   "source": [
    "#Load the data\n",
    "data_socio = pd.read_csv('samlede_socio_data_kbh.csv', encoding = 'utf8')"
   ]
  },
  {
   "cell_type": "code",
   "execution_count": 4,
   "metadata": {
    "collapsed": false
   },
   "outputs": [],
   "source": [
    "#Load the geo data such that the clusters can be added to it.\n",
    "with open('../CPH-social-data-analysis/geodata.geojson') as f:\n",
    "    data = geojson.load(f)"
   ]
  },
  {
   "cell_type": "code",
   "execution_count": 5,
   "metadata": {
    "collapsed": false
   },
   "outputs": [],
   "source": [
    "#Get a list of the years. Don't use 2014 since it's data is bad.\n",
    "yearlist=list(set(data_socio['aar']))\n",
    "yearlist=yearlist[0:-1]\n",
    "#Define the features that are used for clustering.\n",
    "clusterlist=['pct_lav_indkomst','pct_middel_indkomst','pct_hoj_indkomst','pct_dansk','antal_boliger','antal_beboere',\n",
    "                 'bolig_pct_over_120_m2','alder_pct_over_65']"
   ]
  },
  {
   "cell_type": "code",
   "execution_count": 6,
   "metadata": {
    "collapsed": false
   },
   "outputs": [],
   "source": [
    "#Cluster for all the years.\n",
    "for year in yearlist:\n",
    "    MLdf=data_socio[clusterlist][data_socio['aar']==year]\n",
    "    #Deal with NaN's\n",
    "    nonanmat=MLdf\n",
    "    nanlist=np.argwhere(np.isnan(nonanmat.as_matrix()))\n",
    "    namelist=list(nonanmat)\n",
    "    #Set all nans to the mean of the column\n",
    "    for x in nanlist:\n",
    "        nonanmat.set_value(nonanmat.iloc[[x[0]]].index[0],namelist[x[1]] , np.mean(nonanmat[namelist[x[1]]]))\n",
    "    #Now only columns with pure NaN's remain in the df. Remove those leaving only the good data.\n",
    "    nonanmat=nonanmat.dropna(axis=1)\n",
    "    \n",
    "    #Define X\n",
    "    X=nonanmat.as_matrix()\n",
    "    #Standardize the data\n",
    "    stand=StandardScaler(copy=True, with_mean=True, with_std=True)\n",
    "    X=stand.fit_transform(X)\n",
    "    \n",
    "    #Run the K-means algorithm\n",
    "    KMalg=KMeans(n_clusters=4, init='k-means++', n_init=100, max_iter=500, tol=0.0001, precompute_distances='auto',\n",
    "       verbose=0, random_state=None, copy_x=True, n_jobs=1)\n",
    "    #Fit the K-means\n",
    "    KMfit=KMalg.fit_predict(X)\n",
    "    \n",
    "    #Append the cluster number to the geo data such that they can be plotted on the website.\n",
    "    rodelist=data_socio['rode_nr'][data_socio['aar']==year].tolist()\n",
    "    for i in range(len(data['features'])):\n",
    "        rodnum=data['features'][i]['properties']['rode_nr']\n",
    "        if rodnum in rodelist:\n",
    "            idx=rodelist.index(rodnum)\n",
    "            data['features'][i]['properties'][str(year)]['cluster']=KMfit[idx]+1\n",
    "        else:\n",
    "            #If the rode is missing, just set the cluster to -1\n",
    "            data['features'][i]['properties'][str(year)]['cluster']=-1"
   ]
  },
  {
   "cell_type": "code",
   "execution_count": 7,
   "metadata": {
    "collapsed": false
   },
   "outputs": [
    {
     "data": {
      "image/png": "[encoded data removed]",
      "text/plain": [
       "<matplotlib.figure.Figure at 0xddedf28>"
      ]
     },
     "metadata": {},
     "output_type": "display_data"
    }
   ],
   "source": [
    "#Try to find the best sutiable K when doing K-means.\n",
    "#This was investigated before the code above was run.\n",
    "K = range(2,20)\n",
    "\n",
    "#Creating empty dict and array for model and squared errors\n",
    "modelKM = {}\n",
    "sqErr = []\n",
    "\n",
    "for k in K:\n",
    "    estimator = KMeans(init='k-means++', n_clusters=k, n_init=10)\n",
    "    modelKM[k] = estimator.fit(X)\n",
    "    sqErr.append(modelKM[k].inertia_)\n",
    "    \n",
    "plt.plot(K,sqErr, color='darkred',marker=\"x\") # add a title\n",
    "plt.title(\"Error as a function of the number of clusters\")\n",
    "plt.ylabel(\"Total squared error\")\n",
    "plt.xlabel(\"Number of clusters\")\n",
    "\n",
    "plt.grid(True)\n",
    "plt.show()"
   ]
  },
  {
   "cell_type": "code",
   "execution_count": 17,
   "metadata": {
    "collapsed": true
   },
   "outputs": [],
   "source": [
    "#Save the geodata with the clustering numbers to a new data set.\n",
    "with open('../CPH-social-data-analysis/geodata_clustering.geojson', 'w') as outfile:\n",
    "    geojson.dump(data, outfile)"
   ]
  }
 ],
 "metadata": {
  "anaconda-cloud": {},
  "kernelspec": {
   "display_name": "Python [Root]",
   "language": "python",
   "name": "Python [Root]"
  },
  "language_info": {
   "codemirror_mode": {
    "name": "ipython",
    "version": 2
   },
   "file_extension": ".py",
   "mimetype": "text/x-python",
   "name": "python",
   "nbconvert_exporter": "python",
   "pygments_lexer": "ipython2",
   "version": "2.7.12"
  }
 },
 "nbformat": 4,
 "nbformat_minor": 2
}
